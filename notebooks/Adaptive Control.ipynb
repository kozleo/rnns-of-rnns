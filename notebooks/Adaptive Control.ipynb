{
 "cells": [
  {
   "cell_type": "code",
   "execution_count": 4,
   "id": "b2dbe271",
   "metadata": {},
   "outputs": [],
   "source": [
    "import numpy as np\n",
    "import matplotlib.pyplot as plt\n",
    "import torch\n",
    "from torch import nn\n",
    "from torch.nn import functional as F\n",
    "#import tqdm\n",
    "from src import models, utils#, parametrizations,tasks,running#,tasks\n",
    "import os \n",
    "\n",
    "%load_ext autoreload\n",
    "%autoreload 2\n",
    "\n",
    "plt.rcParams.update({\n",
    "    'font.size': 16,  # Update global font size\n",
    "    'axes.titlesize': 20,  # Update axes title font size\n",
    "    'axes.labelsize': 10,  # Update axes label font size\n",
    "    'xtick.labelsize': 12,  # Update xtick label font size\n",
    "    'ytick.labelsize': 12,  # Update ytick label font size\n",
    "})\n",
    "plt.style.use(\"dark_background\")"
   ]
  },
  {
   "cell_type": "code",
   "execution_count": 5,
   "id": "a34258f1",
   "metadata": {},
   "outputs": [],
   "source": [
    "\n",
    "def generate_sine_waves(n, T, frequency=1, time_step=0.01):\n",
    "    t = np.arange(0, T, time_step)\n",
    "    matrix = np.zeros((n, len(t)))\n",
    "\n",
    "    for i in range(n):\n",
    "        amplitude = np.random.uniform(0.5, 1.0)\n",
    "        phase = np.random.uniform(0, 2 * np.pi)\n",
    "        matrix[i, :] = amplitude * np.sin(2 * np.pi * frequency * t + phase)\n",
    "\n",
    "    return t, matrix\n",
    "\n",
    "  \n",
    "\n",
    "\n",
    "def plot_simulation_results(t, sine_waves, state):\n",
    "    n = sine_waves.shape[0]\n",
    "    \n",
    "    plt.figure(figsize=(10, 5))\n",
    "    for i in range(n):\n",
    "        plt.plot(t, sine_waves[i, :], label=f'Input sine wave {i+1}')\n",
    "    plt.xlabel('Time')\n",
    "    plt.ylabel('Amplitude')\n",
    "    plt.title('Sine waves input')\n",
    "    plt.legend()\n",
    "    plt.show()\n",
    "\n",
    "    plt.figure(figsize=(10, 5))\n",
    "    for i in range(n):\n",
    "        plt.plot(t, state[i, :], label=f'State {i+1}')\n",
    "    plt.xlabel('Time')\n",
    "    plt.ylabel('Amplitude')\n",
    "    plt.title('System state')\n",
    "    plt.legend()\n",
    "    plt.show()\n",
    "\n"
   ]
  },
  {
   "cell_type": "code",
   "execution_count": 6,
   "id": "6f2215d5",
   "metadata": {},
   "outputs": [],
   "source": [
    "def generate_random_hierarchcal_adjacency(p, s):\n",
    "    # p number of nodes\n",
    "    # s sparsity\n",
    "\n",
    "    A = np.random.choice([0,1],p = [s, 1-s],size = (p,p))\n",
    "    return np.tril(A) - np.diag(np.diag(A))"
   ]
  },
  {
   "cell_type": "code",
   "execution_count": 328,
   "id": "a394cf69",
   "metadata": {},
   "outputs": [],
   "source": [
    "class GW_Net:\n",
    "    def __init__(self, hidden_size = 32, p = 5, g = 1.5, s_max = 1, arch = 'all'):\n",
    "        self.hidden_size = hidden_size\n",
    "        self.p = p\n",
    "        self.g = g \n",
    "        self.s_max = s_max\n",
    "        self.arch = arch\n",
    "        self.build_GW_Net()\n",
    "        \n",
    "        \n",
    "    def build_GW_Net(self):\n",
    "        # hidden_size = number of units per subnetwork\n",
    "        # p = number of subnetworks\n",
    "        # g = initial recurrent magnitude for h2h matrices\n",
    "        # s_max = largest singular value of h2h matrices\n",
    "\n",
    "        ns = [self.hidden_size for _ in range(self.p)]\n",
    "\n",
    "        if self.arch == 'GW':\n",
    "            A_tril = torch.zeros((len(ns), len(ns)))\n",
    "            A_tril[-1, :] = 1\n",
    "            B_mask = utils.create_mask_given_A(A_tril, ns)\n",
    "            B = B_mask.detach().cpu().numpy()\n",
    "            B = (B + B.T)\n",
    "            B[B == 2] = 0\n",
    "            \n",
    "            \n",
    "        if self.arch == 'hier':\n",
    "            A_tril = generate_random_hierarchcal_adjacency(self.p, 0)\n",
    "            B_mask = utils.create_mask_given_A(A_tril, ns)\n",
    "            B = B_mask.detach().cpu().numpy()\n",
    "           \n",
    "        if self.arch == 'all':\n",
    "            A_tril = np.ones((self.p,self.p)) - np.eye(self.p)\n",
    "            B_mask = utils.create_mask_given_A(A_tril, ns)\n",
    "            B = B_mask.detach().cpu().numpy()\n",
    "            B = (B + B.T)\n",
    "\n",
    "        if self.arch == 'random':\n",
    "            A_tril = np.random.choice([0,1],p = [0.2, 0.8],size = (self.p,self.p)) - np.eye(self.p)\n",
    "            B_mask = utils.create_mask_given_A(A_tril, ns,use_upper = True)\n",
    "            B = B_mask.detach().cpu().numpy()\n",
    "\n",
    "\n",
    "\n",
    "        # adaptable weights\n",
    "        A = np.eye(int(self.hidden_size*self.p))#np.random.normal(0,1/np.sqrt(hidden_size),(sum(ns),sum(ns)))\n",
    "        A = A*B\n",
    "\n",
    "        # intra-areal weights, singular values less than or equal to unity\n",
    "        blocks = utils.create_mask_given_A(np.eye(len(ns)), ns)\n",
    "        blocks = blocks.detach().cpu().numpy()\n",
    "        W = np.random.normal(0,self.g/np.sqrt(self.hidden_size),(sum(ns),sum(ns)))\n",
    "        W *= blocks\n",
    "\n",
    "        # sparsify h2h weights\n",
    "        random_W_mask = np.random.choice([0,1],p = [0.5,0.5],size = (sum(ns),sum(ns)))\n",
    "        W *= random_W_mask\n",
    "\n",
    "        # project h2h to unit norm\n",
    "        u,s,vt = np.linalg.svd(W)\n",
    "        s = np.minimum(self.s_max,s)\n",
    "        W = u @ np.diag(s) @ vt\n",
    "\n",
    "        self.W, self.F, self.A, self.B = W, F, A, B\n",
    "\n",
    "    def forward(self, x, u):\n",
    "        # Define the forward computation here\n",
    "        \n",
    "        return -x + self.W @ np.maximum(0,x) + self.A @ np.maximum(0,x)  + u\n",
    "\n",
    "    def __call__(self, x, u):\n",
    "        return self.forward(x, u)\n",
    "\n"
   ]
  },
  {
   "cell_type": "code",
   "execution_count": 393,
   "id": "af20d020",
   "metadata": {},
   "outputs": [],
   "source": [
    "def run_gp_adaptation(net = None, hidden_size = 32, p = 5, dt = 0.005, T = 150, trials = 1 , eta = 1, gain = 1, sigma = 5, lam = 1):\n",
    "\n",
    "    n = int(net.hidden_size*net.p)\n",
    "    ts = np.arange(0, T, dt)\n",
    "\n",
    "\n",
    "    es = np.zeros((trials,len(ts)))\n",
    "\n",
    "    for trial in range(trials):\n",
    "\n",
    "        net.A = np.eye(n)*net.B\n",
    "\n",
    "\n",
    "\n",
    "        x = 0*np.random.normal(0, 1/np.sqrt(n), n)\n",
    "\n",
    "        #_, sine_waves = generate_sine_waves(n, T, time_step= dt, frequency = 2)\n",
    "        u = utils.generate_GP(T = T,time_step = 0.1,n = n,sigma = sigma)\n",
    "        u = utils.upscale_timeseries(u.T, len(ts))\n",
    "        u = u.T\n",
    "        \n",
    "        #_, sine_waves_desired = generate_sine_waves(n, T, time_step = dt, frequency = 1)\n",
    "        xs_d = utils.generate_GP(T = T,time_step = 0.1,n = n,sigma = sigma)\n",
    "        xs_d = utils.upscale_timeseries(xs_d.T, len(ts))\n",
    "        xs_d = xs_d.T\n",
    "\n",
    "        \n",
    "        states = []\n",
    "\n",
    "        for k, _ in enumerate(ts):\n",
    "            \n",
    "            states.append(x)\n",
    "\n",
    "            e = x - xs_d[:,k]\n",
    "            es[trial,k] = (1/np.sqrt(n))*np.linalg.norm(e)            \n",
    "\n",
    "            net.A = net.A + dt*(-lam*net.A -eta*np.outer(e,np.maximum(0,x))*net.B)\n",
    "            f = net(x, u[:,k] - gain*e)            \n",
    "\n",
    "            x = x +  dt*f\n",
    "\n",
    "        states = np.stack(states)\n",
    "        \n",
    "    \n",
    "    return es, states, xs_d, u,ts\n",
    "    "
   ]
  },
  {
   "cell_type": "code",
   "execution_count": 423,
   "id": "6d52e865",
   "metadata": {},
   "outputs": [],
   "source": [
    "GW_RNN_Stable = GW_Net(g = 1.5, s_max = 1.0, hidden_size = 16, p = 10, arch = 'hier')\n",
    "\n",
    "gain_range\n",
    "sigma_range\n",
    "\n",
    "\n",
    "\n",
    "es,states,states_desired,u,ts = run_gp_adaptation(net = GW_RNN_Stable, T = 300, dt = 0.1, eta = 1, gain = 5, lam = 0.1, sigma = 5, trials = 1)"
   ]
  },
  {
   "cell_type": "code",
   "execution_count": 424,
   "id": "2c5d6e4f",
   "metadata": {},
   "outputs": [
    {
     "data": {
      "text/plain": [
       "<matplotlib.legend.Legend at 0x7fbfdd503f40>"
      ]
     },
     "execution_count": 424,
     "metadata": {},
     "output_type": "execute_result"
    },
    {
     "data": {
      "image/png": "[encoded data removed]",
      "text/plain": [
       "<Figure size 432x288 with 1 Axes>"
      ]
     },
     "metadata": {
      "needs_background": "dark"
     },
     "output_type": "display_data"
    }
   ],
   "source": [
    "plt.plot(ts,states[:,30],label = 'actual states')\n",
    "plt.plot(ts,states_desired[30,:],label = 'desired states')\n",
    "plt.legend()"
   ]
  },
  {
   "cell_type": "code",
   "execution_count": 425,
   "id": "467ef579",
   "metadata": {},
   "outputs": [
    {
     "data": {
      "text/plain": [
       "(0.0, 1.0845971120521183)"
      ]
     },
     "execution_count": 425,
     "metadata": {},
     "output_type": "execute_result"
    },
    {
     "data": {
      "image/png": "[encoded data removed]",
      "text/plain": [
       "<Figure size 432x288 with 1 Axes>"
      ]
     },
     "metadata": {
      "needs_background": "dark"
     },
     "output_type": "display_data"
    }
   ],
   "source": [
    "#mean_stable = np.mean(es, axis = 0)\n",
    "#plt.plot(mean_stable);\n",
    "\n",
    "mean_e = np.mean(es, axis = 0)\n",
    "std_e = np.std(es, axis = 0)\n",
    "standard_error = std_e/np.sqrt(len(es))\n",
    "\n",
    "\n",
    "\n",
    "\n",
    "\n",
    "\n",
    "plt.plot(ts, mean_e,color = 'r')\n",
    "plt.fill_between(ts,mean_e - standard_error, mean_e + standard_error, alpha=0.8, label='Standard Deviation')\n",
    "plt.ylim(0)"
   ]
  },
  {
   "cell_type": "code",
   "execution_count": 409,
   "id": "1c96a464",
   "metadata": {},
   "outputs": [
    {
     "data": {
      "text/plain": [
       "array([0.97005275, 0.97756416, 0.98957194, ..., 0.42058972, 0.41562804,\n",
       "       0.4109541 ])"
      ]
     },
     "execution_count": 409,
     "metadata": {},
     "output_type": "execute_result"
    }
   ],
   "source": [
    "mean_e"
   ]
  },
  {
   "cell_type": "code",
   "execution_count": null,
   "id": "7d1f837d",
   "metadata": {},
   "outputs": [],
   "source": []
  }
 ],
 "metadata": {
  "kernelspec": {
   "display_name": "rnns-of-rnns-env",
   "language": "python",
   "name": "python3"
  },
  "language_info": {
   "codemirror_mode": {
    "name": "ipython",
    "version": 3
   },
   "file_extension": ".py",
   "mimetype": "text/x-python",
   "name": "python",
   "nbconvert_exporter": "python",
   "pygments_lexer": "ipython3",
   "version": "3.8.16"
  }
 },
 "nbformat": 4,
 "nbformat_minor": 5
}
