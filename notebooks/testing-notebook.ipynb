{
 "cells": [
  {
   "cell_type": "code",
   "execution_count": 1,
   "id": "0c9b3d6f",
   "metadata": {},
   "outputs": [
    {
     "name": "stdout",
     "output_type": "stream",
     "text": [
      "/rdma/vast-rdma/vast/fiete/leokoz8/code/rnns-of-rnns\n"
     ]
    }
   ],
   "source": [
    "cd /om2/user/leokoz8/code/rnns-of-rnns"
   ]
  },
  {
   "cell_type": "code",
   "execution_count": null,
   "id": "eac9c917",
   "metadata": {},
   "outputs": [],
   "source": [
    "import numpy as np\n",
    "import matplotlib.pyplot as plt\n",
    "import torch\n",
    "from torch import nn\n",
    "from torch.nn import functional as F\n",
    "\n",
    "from src import models, utils\n",
    "\n",
    "%load_ext autoreload\n",
    "%autoreload 2"
   ]
  },
  {
   "cell_type": "markdown",
   "id": "1a118e9e",
   "metadata": {},
   "source": [
    "Download MNIST dataset"
   ]
  },
  {
   "cell_type": "code",
   "execution_count": 7,
   "id": "9242d2cf",
   "metadata": {},
   "outputs": [
    {
     "name": "stdout",
     "output_type": "stream",
     "text": [
      "torch.Size([60000, 28, 28])\n",
      "torch.Size([60000])\n"
     ]
    },
    {
     "data": {
      "image/png": "[encoded data removed]",
      "text/plain": [
       "<Figure size 432x288 with 1 Axes>"
      ]
     },
     "metadata": {
      "needs_background": "light"
     },
     "output_type": "display_data"
    },
    {
     "name": "stderr",
     "output_type": "stream",
     "text": [
      "/om/user/leokoz8/envs/rnns-of-rnns-env/lib/python3.8/site-packages/torchvision/datasets/mnist.py:80: UserWarning: test_data has been renamed data\n",
      "  warnings.warn(\"test_data has been renamed data\")\n",
      "/om/user/leokoz8/envs/rnns-of-rnns-env/lib/python3.8/site-packages/torchvision/datasets/mnist.py:70: UserWarning: test_labels has been renamed targets\n",
      "  warnings.warn(\"test_labels has been renamed targets\")\n"
     ]
    }
   ],
   "source": [
    "import torchvision.datasets as dsets\n",
    "import torchvision.transforms as transforms\n",
    "\n",
    "          # learning rate\n",
    "DOWNLOAD_MNIST = False   # set to True if haven't download the data\n",
    "BATCH_SIZE = 64\n",
    "\n",
    "# Mnist digital dataset\n",
    "train_data = dsets.MNIST(\n",
    "    root='./mnist/',\n",
    "    train=True,                         # this is training data\n",
    "    transform=transforms.ToTensor(),    # Converts a PIL.Image or numpy.ndarray to\n",
    "                                        # torch.FloatTensor of shape (C x H x W) and normalize in the range [0.0, 1.0]\n",
    "    download=DOWNLOAD_MNIST,            # download it if you don't have it\n",
    ")\n",
    "\n",
    "# plot one example\n",
    "print(train_data.train_data.size())     # (60000, 28, 28)\n",
    "print(train_data.train_labels.size())   # (60000)\n",
    "plt.imshow(train_data.train_data[0].numpy(), cmap='gray')\n",
    "plt.title('%i' % train_data.train_labels[0])\n",
    "plt.show()\n",
    "\n",
    "# Data Loader for easy mini-batch return in training\n",
    "train_loader = torch.utils.data.DataLoader(dataset=train_data, batch_size=BATCH_SIZE, shuffle=True)\n",
    "\n",
    "# convert test data into Variable, pick 2000 samples to speed up testing\n",
    "test_data = dsets.MNIST(root='./mnist/', train=False, transform=transforms.ToTensor())\n",
    "test_x = test_data.test_data.type(torch.FloatTensor)[:2000]/255.   # shape (2000, 28, 28) value in range(0,1)\n",
    "test_y = test_data.test_labels.numpy()[:2000]    # covert to numpy array"
   ]
  },
  {
   "cell_type": "code",
   "execution_count": null,
   "id": "171c9de3",
   "metadata": {},
   "outputs": [],
   "source": [
    "ns = [32,32,8]\n",
    "\n",
    "A_tril = torch.zeros((len(ns), len(ns)))\n",
    "A_tril[-1, :] = 1\n",
    "B_mask = F.dropout(utils.create_mask_given_A(A_tril, ns), 0.9) \n",
    "W_hh,Ws = utils.create_random_block_stable_symmetric_weights(ns)\n",
    "M_hat = utils.get_M_given_sym_W(W_hh)\n",
    "\n",
    "param_dict = {\"ns\": ns,\n",
    "              \"W_hh\": W_hh,\n",
    "              \"W_ih\": None,\n",
    "              \"W_ho\": None,\n",
    "              \"M_hat\": M_hat,\n",
    "              \"B_mask\": B_mask,              \n",
    "             \"input_size\": int(28),\n",
    "             \"output_size\": 10,\n",
    "             \"nonlinearity\": 'tanh',\n",
    "             \"gamma\": 1,\n",
    "             \"alpha\": 0.01}\n",
    "\n",
    "\n",
    "\n",
    "rnn = models.GWRNN(param_dict)\n"
   ]
  },
  {
   "cell_type": "code",
   "execution_count": 133,
   "id": "a54fbe29",
   "metadata": {},
   "outputs": [
    {
     "name": "stdout",
     "output_type": "stream",
     "text": [
      "Epoch:  0 | train loss: 2.2894 | test accuracy: 0.10\n",
      "Epoch:  0 | train loss: 1.9756 | test accuracy: 0.34\n",
      "Epoch:  0 | train loss: 1.6072 | test accuracy: 0.44\n",
      "Epoch:  0 | train loss: 1.2956 | test accuracy: 0.50\n",
      "Epoch:  0 | train loss: 1.1534 | test accuracy: 0.60\n",
      "Epoch:  0 | train loss: 1.0513 | test accuracy: 0.66\n",
      "Epoch:  0 | train loss: 0.7630 | test accuracy: 0.69\n",
      "Epoch:  0 | train loss: 0.7262 | test accuracy: 0.73\n",
      "Epoch:  0 | train loss: 0.7630 | test accuracy: 0.76\n",
      "Epoch:  0 | train loss: 0.7605 | test accuracy: 0.78\n",
      "Epoch:  0 | train loss: 0.7784 | test accuracy: 0.80\n",
      "Epoch:  0 | train loss: 0.4850 | test accuracy: 0.79\n",
      "Epoch:  0 | train loss: 0.6633 | test accuracy: 0.81\n",
      "Epoch:  0 | train loss: 0.5676 | test accuracy: 0.81\n",
      "Epoch:  0 | train loss: 0.3777 | test accuracy: 0.82\n",
      "Epoch:  0 | train loss: 0.5048 | test accuracy: 0.83\n",
      "Epoch:  0 | train loss: 0.5456 | test accuracy: 0.85\n",
      "Epoch:  0 | train loss: 0.3041 | test accuracy: 0.85\n",
      "Epoch:  0 | train loss: 0.6433 | test accuracy: 0.85\n",
      "Epoch:  1 | train loss: 0.4563 | test accuracy: 0.84\n",
      "Epoch:  1 | train loss: 0.5236 | test accuracy: 0.87\n",
      "Epoch:  1 | train loss: 0.4096 | test accuracy: 0.86\n",
      "Epoch:  1 | train loss: 0.3248 | test accuracy: 0.87\n",
      "Epoch:  1 | train loss: 0.3571 | test accuracy: 0.86\n",
      "Epoch:  1 | train loss: 0.5121 | test accuracy: 0.86\n",
      "Epoch:  1 | train loss: 0.3801 | test accuracy: 0.88\n",
      "Epoch:  1 | train loss: 0.4427 | test accuracy: 0.88\n",
      "Epoch:  1 | train loss: 0.5169 | test accuracy: 0.87\n",
      "Epoch:  1 | train loss: 0.3738 | test accuracy: 0.87\n",
      "Epoch:  1 | train loss: 0.4625 | test accuracy: 0.88\n",
      "Epoch:  1 | train loss: 0.4354 | test accuracy: 0.88\n",
      "Epoch:  1 | train loss: 0.4141 | test accuracy: 0.88\n",
      "Epoch:  1 | train loss: 0.4832 | test accuracy: 0.88\n",
      "Epoch:  1 | train loss: 0.3967 | test accuracy: 0.88\n",
      "Epoch:  1 | train loss: 0.3319 | test accuracy: 0.89\n",
      "Epoch:  1 | train loss: 0.2762 | test accuracy: 0.89\n",
      "Epoch:  1 | train loss: 0.3139 | test accuracy: 0.89\n",
      "Epoch:  1 | train loss: 0.3397 | test accuracy: 0.89\n",
      "Epoch:  2 | train loss: 0.3777 | test accuracy: 0.89\n",
      "Epoch:  2 | train loss: 0.2870 | test accuracy: 0.89\n",
      "Epoch:  2 | train loss: 0.3996 | test accuracy: 0.89\n",
      "Epoch:  2 | train loss: 0.2491 | test accuracy: 0.89\n",
      "Epoch:  2 | train loss: 0.3989 | test accuracy: 0.89\n",
      "Epoch:  2 | train loss: 0.2348 | test accuracy: 0.90\n",
      "Epoch:  2 | train loss: 0.4331 | test accuracy: 0.89\n",
      "Epoch:  2 | train loss: 0.3559 | test accuracy: 0.89\n",
      "Epoch:  2 | train loss: 0.2287 | test accuracy: 0.90\n",
      "Epoch:  2 | train loss: 0.2975 | test accuracy: 0.89\n",
      "Epoch:  2 | train loss: 0.3338 | test accuracy: 0.90\n",
      "Epoch:  2 | train loss: 0.2511 | test accuracy: 0.89\n",
      "Epoch:  2 | train loss: 0.3536 | test accuracy: 0.90\n",
      "Epoch:  2 | train loss: 0.1258 | test accuracy: 0.90\n",
      "Epoch:  2 | train loss: 0.2742 | test accuracy: 0.90\n",
      "Epoch:  2 | train loss: 0.2463 | test accuracy: 0.90\n",
      "Epoch:  2 | train loss: 0.3148 | test accuracy: 0.90\n",
      "Epoch:  2 | train loss: 0.1592 | test accuracy: 0.90\n",
      "Epoch:  2 | train loss: 0.3626 | test accuracy: 0.90\n",
      "Epoch:  3 | train loss: 0.4542 | test accuracy: 0.90\n",
      "Epoch:  3 | train loss: 0.2699 | test accuracy: 0.91\n",
      "Epoch:  3 | train loss: 0.4793 | test accuracy: 0.90\n",
      "Epoch:  3 | train loss: 0.4251 | test accuracy: 0.90\n",
      "Epoch:  3 | train loss: 0.2249 | test accuracy: 0.90\n",
      "Epoch:  3 | train loss: 0.1213 | test accuracy: 0.90\n",
      "Epoch:  3 | train loss: 0.3148 | test accuracy: 0.91\n",
      "Epoch:  3 | train loss: 0.2173 | test accuracy: 0.91\n",
      "Epoch:  3 | train loss: 0.2308 | test accuracy: 0.91\n",
      "Epoch:  3 | train loss: 0.1564 | test accuracy: 0.91\n",
      "Epoch:  3 | train loss: 0.3168 | test accuracy: 0.91\n",
      "Epoch:  3 | train loss: 0.3376 | test accuracy: 0.91\n",
      "Epoch:  3 | train loss: 0.2036 | test accuracy: 0.91\n",
      "Epoch:  3 | train loss: 0.1300 | test accuracy: 0.91\n",
      "Epoch:  3 | train loss: 0.2718 | test accuracy: 0.91\n",
      "Epoch:  3 | train loss: 0.3334 | test accuracy: 0.90\n",
      "Epoch:  3 | train loss: 0.2692 | test accuracy: 0.91\n",
      "Epoch:  3 | train loss: 0.2314 | test accuracy: 0.91\n",
      "Epoch:  3 | train loss: 0.0809 | test accuracy: 0.91\n",
      "Epoch:  4 | train loss: 0.2256 | test accuracy: 0.90\n",
      "Epoch:  4 | train loss: 0.3885 | test accuracy: 0.91\n",
      "Epoch:  4 | train loss: 0.1779 | test accuracy: 0.91\n",
      "Epoch:  4 | train loss: 0.2922 | test accuracy: 0.91\n",
      "Epoch:  4 | train loss: 0.3711 | test accuracy: 0.91\n",
      "Epoch:  4 | train loss: 0.2919 | test accuracy: 0.91\n",
      "Epoch:  4 | train loss: 0.2522 | test accuracy: 0.90\n",
      "Epoch:  4 | train loss: 0.2954 | test accuracy: 0.90\n",
      "Epoch:  4 | train loss: 0.1446 | test accuracy: 0.91\n",
      "Epoch:  4 | train loss: 0.2074 | test accuracy: 0.91\n",
      "Epoch:  4 | train loss: 0.3142 | test accuracy: 0.91\n",
      "Epoch:  4 | train loss: 0.2072 | test accuracy: 0.91\n",
      "Epoch:  4 | train loss: 0.2455 | test accuracy: 0.92\n",
      "Epoch:  4 | train loss: 0.3817 | test accuracy: 0.91\n",
      "Epoch:  4 | train loss: 0.2001 | test accuracy: 0.91\n",
      "Epoch:  4 | train loss: 0.1869 | test accuracy: 0.91\n",
      "Epoch:  4 | train loss: 0.2672 | test accuracy: 0.90\n",
      "Epoch:  4 | train loss: 0.2864 | test accuracy: 0.91\n",
      "Epoch:  4 | train loss: 0.1938 | test accuracy: 0.92\n",
      "[7 2 1 0 4 1 4 9 6 9] prediction number\n",
      "[7 2 1 0 4 1 4 9 5 9] real number\n"
     ]
    }
   ],
   "source": [
    "\n",
    "\n",
    "EPOCH = 5  \n",
    "LR = 0.01   \n",
    "optimizer = torch.optim.Adam(rnn.parameters(), lr=LR)   # optimize all cnn parameters\n",
    "loss_func = nn.CrossEntropyLoss()                       # the target label is not one-hotted\n",
    "\n",
    "# training and testing\n",
    "for epoch in range(EPOCH):\n",
    "    \n",
    "    for step, (b_x, b_y) in enumerate(train_loader):        # gives batch data\n",
    "        b_x = b_x.view(-1, 28, 28)              # reshape x to (batch, time_step, input_size)\n",
    "\n",
    "        output = rnn(b_x)                               # rnn output\n",
    "        loss = loss_func(output[:,-1,:], b_y)                   # cross entropy loss\n",
    "        optimizer.zero_grad()                           # clear gradients for this training step\n",
    "        loss.backward()                                 # backpropagation, compute gradients\n",
    "        optimizer.step()                                # apply gradients\n",
    "\n",
    "        if step % 50 == 0:\n",
    "            test_output = rnn(test_x)                   # (samples, time_step, input_size)\n",
    "            pred_y = torch.max(test_output[:,-1,:], 1)[1].data.numpy()\n",
    "            accuracy = float((pred_y == test_y).astype(int).sum()) / float(test_y.size)\n",
    "            print('Epoch: ', epoch, '| train loss: %.4f' % loss.data.numpy(), '| test accuracy: %.2f' % accuracy)\n",
    "\n",
    "          \n",
    "# print 10 predictions from test data\n",
    "test_output = rnn(test_x[:10].view(-1, 28, 28))\n",
    "pred_y = torch.max(test_output[:,-1,:], 1)[1].data.numpy()\n",
    "print(pred_y, 'prediction number')\n",
    "print(test_y[:10], 'real number')\n"
   ]
  },
  {
   "cell_type": "code",
   "execution_count": 134,
   "id": "2e14cb87",
   "metadata": {},
   "outputs": [
    {
     "data": {
      "image/png": "[encoded data removed]",
      "text/plain": [
       "<Figure size 288x288 with 1 Axes>"
      ]
     },
     "metadata": {
      "needs_background": "light"
     },
     "output_type": "display_data"
    }
   ],
   "source": [
    "with torch.no_grad():\n",
    "    plt.matshow(torch.log(torch.abs(rnn.rnn.weight_hh) + torch.abs(rnn.L_hat.weight))+0.01)"
   ]
  }
 ],
 "metadata": {
  "kernelspec": {
   "display_name": "Python [conda env:leokoz8-rnns-of-rnns-env] *",
   "language": "python",
   "name": "conda-env-leokoz8-rnns-of-rnns-env-py"
  },
  "language_info": {
   "codemirror_mode": {
    "name": "ipython",
    "version": 3
   },
   "file_extension": ".py",
   "mimetype": "text/x-python",
   "name": "python",
   "nbconvert_exporter": "python",
   "pygments_lexer": "ipython3",
   "version": "3.8.16"
  }
 },
 "nbformat": 4,
 "nbformat_minor": 5
}
