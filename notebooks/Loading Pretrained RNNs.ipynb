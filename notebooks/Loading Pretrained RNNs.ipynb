{
 "cells": [
  {
   "cell_type": "code",
   "execution_count": 1,
   "id": "0f2f07a0",
   "metadata": {},
   "outputs": [
    {
     "name": "stdout",
     "output_type": "stream",
     "text": [
      "/rdma/vast-rdma/vast/fiete/leokoz8/code/rnns-of-rnns\n"
     ]
    }
   ],
   "source": [
    "cd /om2/user/leokoz8/code/rnns-of-rnns"
   ]
  },
  {
   "cell_type": "code",
   "execution_count": 130,
   "id": "e011d1f2",
   "metadata": {},
   "outputs": [
    {
     "name": "stdout",
     "output_type": "stream",
     "text": [
      "The autoreload extension is already loaded. To reload it, use:\n",
      "  %reload_ext autoreload\n"
     ]
    }
   ],
   "source": [
    "import numpy as np\n",
    "import matplotlib.pyplot as plt\n",
    "import torch\n",
    "from torch import nn\n",
    "from torch.nn import functional as F\n",
    "import tqdm\n",
    "from src import models, utils, parametrizations,tasks,running\n",
    "from torch.optim.lr_scheduler import StepLR,ReduceLROnPlateau\n",
    "\n",
    "from neurogym.wrappers import ScheduleEnvs\n",
    "from neurogym.utils.scheduler import RandomSchedule\n",
    "from neurogym.wrappers.block import MultiEnvs\n",
    "from neurogym import Dataset\n",
    "from Mod_Cog.mod_cog_tasks import *\n",
    "\n",
    "envs, env_names = tasks.load_all_mod_cog_tasks()\n",
    "\n",
    "%load_ext autoreload\n",
    "%autoreload 2"
   ]
  },
  {
   "cell_type": "code",
   "execution_count": 152,
   "id": "7516dcc7",
   "metadata": {},
   "outputs": [
    {
     "data": {
      "text/plain": [
       "tensor([0.0500, 0.0450, 0.0400, 0.0600, 0.0700])"
      ]
     },
     "execution_count": 152,
     "metadata": {},
     "output_type": "execute_result"
    }
   ],
   "source": [
    "import pickle\n",
    "filepath = '/om2/user/leokoz8/code/rnns-of-rnns/models/spectral/dlygointr/conformal/perf_over_training.pickle'\n",
    "file = torch.load(filepath)\n",
    "file"
   ]
  },
  {
   "cell_type": "code",
   "execution_count": 119,
   "id": "467b67c4",
   "metadata": {},
   "outputs": [],
   "source": [
    "device = \"cuda\" if torch.cuda.is_available() else \"cpu\"\n",
    "\n",
    "\n",
    "dataset = Dataset(ctxdlydm1seql(), batch_size=64, seq_len=100)\n",
    "env = dataset.env\n",
    "\n",
    "\n",
    "tasks_and_constraints  = [(envs_names[i],'spectral') for i in range(0,19)]\n",
    "    \n",
    "net = utils.build_GWNET_from_pretrained(tasks_and_constraints, env, device, gw_hidden_size = 16, interareal_constraint = 'None')"
   ]
  },
  {
   "cell_type": "code",
   "execution_count": 120,
   "id": "cdaab94a",
   "metadata": {},
   "outputs": [
    {
     "data": {
      "image/png": "[encoded data removed]",
      "text/plain": [
       "<Figure size 432x288 with 1 Axes>"
      ]
     },
     "metadata": {
      "needs_background": "light"
     },
     "output_type": "display_data"
    }
   ],
   "source": [
    "inputs, labels = dataset()\n",
    "inputs = torch.from_numpy(inputs).type(torch.float).to(device)\n",
    "\n",
    "labels = torch.from_numpy(labels.flatten()).type(torch.long).to(device)\n",
    "\n",
    "with torch.no_grad():\n",
    "    # forward + backward + optimize\n",
    "    outputs,rnn_outputs = net(inputs)\n",
    "    plt.plot(inputs[:,1,0].detach().cpu())\n",
    "    plt.plot(rnn_outputs[:,1,0].detach().cpu())"
   ]
  },
  {
   "cell_type": "code",
   "execution_count": 132,
   "id": "8865333b",
   "metadata": {},
   "outputs": [
    {
     "name": "stdout",
     "output_type": "stream",
     "text": [
      "Gradient step: 0 \t Performance: 0.41 \t Training loss: 0.38\n",
      "Gradient step: 9 \t Performance: 0.565 \t Training loss: 3.41\n",
      "Gradient step: 19 \t Performance: 0.55 \t Training loss: 3.22\n",
      "Gradient step: 29 \t Performance: 0.575 \t Training loss: 3.08\n",
      "Gradient step: 39 \t Performance: 0.7 \t Training loss: 2.82\n",
      "Gradient step: 49 \t Performance: 0.605 \t Training loss: 2.71\n",
      "Gradient step: 59 \t Performance: 0.69 \t Training loss: 2.49\n",
      "Gradient step: 69 \t Performance: 0.755 \t Training loss: 2.32\n",
      "Unexpected exception formatting exception. Falling back to standard exception\n"
     ]
    },
    {
     "name": "stderr",
     "output_type": "stream",
     "text": [
      "Traceback (most recent call last):\n",
      "  File \"/om/user/leokoz8/envs/rnns-of-rnns-env/lib/python3.8/site-packages/IPython/core/interactiveshell.py\", line 3398, in run_code\n",
      "    exec(code_obj, self.user_global_ns, self.user_ns)\n",
      "  File \"/tmp/ipykernel_27546/48402889.py\", line 11, in <cell line: 11>\n",
      "    net_trained, perf_over_training = running.train(net,dataset,criterion,optimizer, scheduler, training_params,device)\n",
      "  File \"/rdma/vast-rdma/vast/fiete/leokoz8/code/rnns-of-rnns/src/running.py\", line 37, in train\n",
      "    outputs,rnn_outputs = net(inputs)\n",
      "  File \"/om/user/leokoz8/envs/rnns-of-rnns-env/lib/python3.8/site-packages/torch/nn/modules/module.py\", line 1194, in _call_impl\n",
      "    return forward_call(*input, **kwargs)\n",
      "  File \"/rdma/vast-rdma/vast/fiete/leokoz8/code/rnns-of-rnns/src/models.py\", line 409, in forward\n",
      "    rnn_output, _ = self.rnn(x)\n",
      "  File \"/om/user/leokoz8/envs/rnns-of-rnns-env/lib/python3.8/site-packages/torch/nn/modules/module.py\", line 1194, in _call_impl\n",
      "    return forward_call(*input, **kwargs)\n",
      "  File \"/rdma/vast-rdma/vast/fiete/leokoz8/code/rnns-of-rnns/src/models.py\", line 343, in forward\n",
      "    hidden = self.recurrence(input[i], hidden)\n",
      "  File \"/rdma/vast-rdma/vast/fiete/leokoz8/code/rnns-of-rnns/src/models.py\", line 327, in recurrence\n",
      "    h_new = torch.relu(self.input2h(input) + self.h2h(hidden)) + self.L_hat(hidden)\n",
      "  File \"/om/user/leokoz8/envs/rnns-of-rnns-env/lib/python3.8/site-packages/torch/nn/modules/module.py\", line 1194, in _call_impl\n",
      "    return forward_call(*input, **kwargs)\n",
      "  File \"/om/user/leokoz8/envs/rnns-of-rnns-env/lib/python3.8/site-packages/torch/nn/modules/linear.py\", line 114, in forward\n",
      "    return F.linear(input, self.weight, self.bias)\n",
      "KeyboardInterrupt\n",
      "\n",
      "During handling of the above exception, another exception occurred:\n",
      "\n",
      "Traceback (most recent call last):\n",
      "  File \"/om/user/leokoz8/envs/rnns-of-rnns-env/lib/python3.8/site-packages/IPython/core/interactiveshell.py\", line 1993, in showtraceback\n",
      "    stb = self.InteractiveTB.structured_traceback(\n",
      "  File \"/om/user/leokoz8/envs/rnns-of-rnns-env/lib/python3.8/site-packages/IPython/core/ultratb.py\", line 1118, in structured_traceback\n",
      "    return FormattedTB.structured_traceback(\n",
      "  File \"/om/user/leokoz8/envs/rnns-of-rnns-env/lib/python3.8/site-packages/IPython/core/ultratb.py\", line 1012, in structured_traceback\n",
      "    return VerboseTB.structured_traceback(\n",
      "  File \"/om/user/leokoz8/envs/rnns-of-rnns-env/lib/python3.8/site-packages/IPython/core/ultratb.py\", line 865, in structured_traceback\n",
      "    formatted_exception = self.format_exception_as_a_whole(etype, evalue, etb, number_of_lines_of_context,\n",
      "  File \"/om/user/leokoz8/envs/rnns-of-rnns-env/lib/python3.8/site-packages/IPython/core/ultratb.py\", line 818, in format_exception_as_a_whole\n",
      "    frames.append(self.format_record(r))\n",
      "  File \"/om/user/leokoz8/envs/rnns-of-rnns-env/lib/python3.8/site-packages/IPython/core/ultratb.py\", line 736, in format_record\n",
      "    result += ''.join(_format_traceback_lines(frame_info.lines, Colors, self.has_colors, lvals))\n",
      "  File \"/om/user/leokoz8/envs/rnns-of-rnns-env/lib/python3.8/site-packages/stack_data/utils.py\", line 145, in cached_property_wrapper\n",
      "    value = obj.__dict__[self.func.__name__] = self.func(obj)\n",
      "  File \"/om/user/leokoz8/envs/rnns-of-rnns-env/lib/python3.8/site-packages/stack_data/core.py\", line 698, in lines\n",
      "    pieces = self.included_pieces\n",
      "  File \"/om/user/leokoz8/envs/rnns-of-rnns-env/lib/python3.8/site-packages/stack_data/utils.py\", line 145, in cached_property_wrapper\n",
      "    value = obj.__dict__[self.func.__name__] = self.func(obj)\n",
      "  File \"/om/user/leokoz8/envs/rnns-of-rnns-env/lib/python3.8/site-packages/stack_data/core.py\", line 649, in included_pieces\n",
      "    pos = scope_pieces.index(self.executing_piece)\n",
      "  File \"/om/user/leokoz8/envs/rnns-of-rnns-env/lib/python3.8/site-packages/stack_data/utils.py\", line 145, in cached_property_wrapper\n",
      "    value = obj.__dict__[self.func.__name__] = self.func(obj)\n",
      "  File \"/om/user/leokoz8/envs/rnns-of-rnns-env/lib/python3.8/site-packages/stack_data/core.py\", line 628, in executing_piece\n",
      "    return only(\n",
      "  File \"/om/user/leokoz8/envs/rnns-of-rnns-env/lib/python3.8/site-packages/executing/executing.py\", line 164, in only\n",
      "    raise NotOneValueFound('Expected one value, found 0')\n",
      "executing.executing.NotOneValueFound: Expected one value, found 0\n"
     ]
    }
   ],
   "source": [
    "criterion = nn.CrossEntropyLoss()\n",
    "optimizer = torch.optim.Adam(net.parameters(), lr=1e-3)\n",
    "scheduler = ReduceLROnPlateau(optimizer, mode = 'max', factor = 0.1)\n",
    "\n",
    "num_gradient_steps = 1000\n",
    "eval_every = 25\n",
    "\n",
    "training_params = {\"num_gradient_steps\": num_gradient_steps, \"eval_every\": eval_every}\n",
    "\n",
    "\n",
    "net_trained, perf_over_training = running.train(net,dataset,criterion,optimizer, scheduler, training_params,device)\n",
    "\n"
   ]
  },
  {
   "cell_type": "code",
   "execution_count": 149,
   "id": "51a9ffc0",
   "metadata": {},
   "outputs": [
    {
     "data": {
      "text/plain": [
       "tensor([0.0700, 0.0450, 0.0750, 0.0550, 0.0650, 0.0850, 0.0550, 0.0700, 0.0850,\n",
       "        0.0600, 0.1000, 0.1000, 0.1000, 0.1850, 0.2700, 0.1350, 0.2200, 0.3250,\n",
       "        0.3250, 0.2200, 0.3850, 0.3700, 0.4750, 0.5650, 0.4950, 0.5150, 0.5550,\n",
       "        0.6200, 0.5750, 0.6450, 0.7250, 0.6300, 0.5850, 0.7600, 0.7000, 0.7450,\n",
       "        0.6000, 0.7500, 0.7100, 0.8150, 0.7100, 0.8150, 0.7950, 0.8750, 0.7550,\n",
       "        0.8200, 0.8550, 0.6750, 0.8400, 0.8700, 0.8900, 0.5350, 0.8100, 0.7900,\n",
       "        0.8250, 0.8850, 0.8950, 0.8850, 0.8150, 0.8850, 0.8600, 0.8700, 0.9100,\n",
       "        0.0000, 0.0000, 0.0000, 0.0000, 0.0000, 0.0000, 0.0000, 0.0000, 0.0000,\n",
       "        0.0000, 0.0000, 0.0000, 0.0000, 0.0000, 0.0000, 0.0000, 0.0000, 0.0000,\n",
       "        0.0000, 0.0000, 0.0000, 0.0000, 0.0000, 0.0000, 0.0000, 0.0000, 0.0000,\n",
       "        0.0000, 0.0000, 0.0000, 0.0000, 0.0000, 0.0000, 0.0000, 0.0000, 0.0000,\n",
       "        0.0000, 0.0000])"
      ]
     },
     "execution_count": 149,
     "metadata": {},
     "output_type": "execute_result"
    }
   ],
   "source": [
    "perf_over_training"
   ]
  },
  {
   "cell_type": "code",
   "execution_count": 112,
   "id": "61e80359",
   "metadata": {},
   "outputs": [
    {
     "data": {
      "image/png": "[encoded data removed]",
      "text/plain": [
       "<Figure size 288x288 with 2 Axes>"
      ]
     },
     "metadata": {
      "needs_background": "light"
     },
     "output_type": "display_data"
    }
   ],
   "source": [
    "with torch.no_grad():\n",
    "    plt.matshow(utils.log_abs(net.rnn.L_hat.weight[:,:].detach().cpu()))\n",
    "    plt.colorbar()"
   ]
  },
  {
   "cell_type": "code",
   "execution_count": 116,
   "id": "b936a24d",
   "metadata": {},
   "outputs": [],
   "source": [
    "input2h_weight_bar, rnn_input2h_bias, rnn_h2h_weight, rnn_h2h_bias, fc_weight_bar, fc_bias_bar = utils.get_stacked_weights_and_biases(tasks_and_constraints)"
   ]
  },
  {
   "cell_type": "code",
   "execution_count": 153,
   "id": "8e4df6f3",
   "metadata": {},
   "outputs": [
    {
     "name": "stdout",
     "output_type": "stream",
     "text": [
      "tensor(-1.9924, device='cuda:0')\n"
     ]
    }
   ],
   "source": [
    "with torch.no_grad():\n",
    "    n = 32\n",
    "    D = torch.diag(torch.rand(n,device = device))\n",
    "    W = rnn_h2h_weight[5]\n",
    "    I = torch.eye(n,device = device)\n",
    "    J = -I + D @ W\n",
    "    M = compute_metric_from_sym_weights(W)\n",
    "    F = 0.5*(M @ J + J.T @ M)\n",
    "    \n",
    "    e,_ = torch.linalg.eig(F)\n",
    "    print(torch.max(torch.real(e)))"
   ]
  }
 ],
 "metadata": {
  "kernelspec": {
   "display_name": "Python [conda env:leokoz8-rnns-of-rnns-env] *",
   "language": "python",
   "name": "conda-env-leokoz8-rnns-of-rnns-env-py"
  },
  "language_info": {
   "codemirror_mode": {
    "name": "ipython",
    "version": 3
   },
   "file_extension": ".py",
   "mimetype": "text/x-python",
   "name": "python",
   "nbconvert_exporter": "python",
   "pygments_lexer": "ipython3",
   "version": "3.8.16"
  }
 },
 "nbformat": 4,
 "nbformat_minor": 5
}
