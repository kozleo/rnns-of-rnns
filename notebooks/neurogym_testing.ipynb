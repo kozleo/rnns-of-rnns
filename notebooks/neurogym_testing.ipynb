{
 "cells": [
  {
   "cell_type": "code",
   "execution_count": 1,
   "id": "0c9b3d6f",
   "metadata": {},
   "outputs": [
    {
     "name": "stdout",
     "output_type": "stream",
     "text": [
      "/net/vast-storage.ib.cluster/scratch/vast/fiete/leokoz8/code/rnns-of-rnns\n"
     ]
    }
   ],
   "source": [
    "cd /om2/user/leokoz8/code/rnns-of-rnns"
   ]
  },
  {
   "cell_type": "code",
   "execution_count": 2,
   "id": "eac9c917",
   "metadata": {},
   "outputs": [],
   "source": [
    "import numpy as np\n",
    "import matplotlib.pyplot as plt\n",
    "import torch\n",
    "from torch import nn\n",
    "from torch.nn import functional as F\n",
    "import tqdm\n",
    "from src import models, utils\n",
    "\n",
    "\n",
    "from neurogym.wrappers import ScheduleEnvs\n",
    "from neurogym.utils.scheduler import RandomSchedule\n",
    "from neurogym.wrappers.block import MultiEnvs\n",
    "from neurogym import Dataset\n",
    "from Mod_Cog.mod_cog_tasks import *\n",
    "\n",
    "envs = [go(), rtgo(), dlygo(), anti(), rtanti(), dlyanti(),\n",
    "        dm1(), dm2(), ctxdm1(), ctxdm2(), multidm(), dlydm1(), dlydm2(),\n",
    "        ctxdlydm1(), ctxdlydm2(), multidlydm(), dms(), dnms(), dmc(), dnmc(),\n",
    "        dlygointr(),dlygointl(),dlyantiintr(),dlyantiintl(),dlydm1intr(),dlydm1intl(),\n",
    "        dlydm2intr(),dlydm2intl(),ctxdlydm1intr(),ctxdlydm1intl(),ctxdlydm2intr(),ctxdlydm2intl(),\n",
    "        multidlydmintr(),multidlydmintl(),dmsintr(),dmsintl(),dnmsintr(),\n",
    "        dnmsintl(),dmcintr(),dmcintl(),dnmcintr(),dnmcintl(), goseqr(), rtgoseqr(), dlygoseqr(), \n",
    "        antiseqr(), rtantiseqr(), dlyantiseqr(), dm1seqr(), dm2seqr(), ctxdm1seqr(), ctxdm2seqr(), \n",
    "        multidmseqr(), dlydm1seqr(),dlydm2seqr(),ctxdlydm1seqr(), ctxdlydm2seqr(), multidlydmseqr(),\n",
    "        dmsseqr(), dnmsseqr(), dmcseqr(), dnmcseqr(), goseql(), rtgoseql(), dlygoseql(), antiseql(),\n",
    "        rtantiseql(), dlyantiseql(), dm1seql(), dm2seql(), ctxdm1seql(), ctxdm2seql(), multidmseql(), dlydm1seql(),\n",
    "        dlydm2seql(),ctxdlydm1seql(), ctxdlydm2seql(), multidlydmseql(), dmsseql(), dnmsseql(), dmcseql(), dnmcseql()]\n",
    "\n",
    "envs_names = ['go', 'rtgo', 'dlygo', 'anti', 'rtanti', 'dlyanti','dm1', 'dm2', 'ctxdm1', 'ctxdm2', 'multidm', 'dlydm1', 'dlydm2',\n",
    "        'ctxdlydm1', 'ctxdlydm2', 'multidlydm', 'dms', 'dnms', 'dmc', 'dnmc',\n",
    "        'dlygointr','dlygointl','dlyantiintr','dlyantiintl','dlydm1intr','dlydm1intl',\n",
    "        'dlydm2intr','dlydm2intl','ctxdlydm1intr','ctxdlydm1intl','ctxdlydm2intr','ctxdlydm2intl',\n",
    "        'multidlydmintr','multidlydmintl','dmsintr','dmsintl','dnmsintr',\n",
    "        'dnmsintl','dmcintr','dmcintl','dnmcintr','dnmcintl', 'goseqr', 'rtgoseqr', 'dlygoseqr', \n",
    "        'antiseqr', 'rtantiseqr', 'dlyantiseqr', 'dm1seqr', 'dm2seqr', 'ctxdm1seqr', 'ctxdm2seqr', \n",
    "        'multidmseqr', 'dlydm1seqr','dlydm2seqr','ctxdlydm1seqr', 'ctxdlydm2seqr', 'multidlydmseqr',\n",
    "        'dmsseqr', 'dnmsseqr', 'dmcseqr', 'dnmcseqr', 'goseql', 'rtgoseql', 'dlygoseql', 'antiseql',\n",
    "        'rtantiseql', 'dlyantiseql', 'dm1seql', 'dm2seql', 'ctxdm1seql', 'ctxdm2seql', 'multidmseql', 'dlydm1seql',\n",
    "        'dlydm2seql','ctxdlydm1seql', 'ctxdlydm2seql', 'multidlydmseql', 'dmsseql', 'dnmsseql', 'dmcseql', 'dnmcseql']\n",
    "\n",
    "extra_tasks = {'envs': envs, 'envs_names': envs_names}\n",
    "\n",
    "\n",
    "\n",
    "\n",
    "\n",
    "%load_ext autoreload\n",
    "%autoreload 2"
   ]
  },
  {
   "cell_type": "code",
   "execution_count": 3,
   "id": "615936b7",
   "metadata": {},
   "outputs": [],
   "source": [
    "utils.pickle_store(filename = 'extra_task_names',your_data = envs_names, path = './')"
   ]
  },
  {
   "cell_type": "code",
   "execution_count": 4,
   "id": "dbdc71b7",
   "metadata": {},
   "outputs": [],
   "source": [
    "# define task here\n",
    "\n",
    "dataset = Dataset(dm1(), batch_size=32, seq_len=100)\n",
    "env = dataset.env\n",
    "ob_size = env.observation_space.shape[0]\n",
    "act_size = env.action_space.n\n",
    "\n"
   ]
  },
  {
   "cell_type": "code",
   "execution_count": 5,
   "id": "a409fbaa",
   "metadata": {},
   "outputs": [],
   "source": [
    "def train(net,criterion, optimizer, training_params):\n",
    "    \n",
    "    running_loss = 0.0\n",
    "    \n",
    "    num_gradient_steps = training_params['num_gradient_steps']\n",
    "    eval_every = training_params['eval_every']\n",
    "    \n",
    "\n",
    "    pbar = tqdm.trange(num_gradient_steps)\n",
    "    count_eval = 0\n",
    "    perf_over_training = torch.zeros(int(num_gradient_steps/eval_every))\n",
    "\n",
    "    for i in pbar:\n",
    "        inputs, labels = dataset()\n",
    "        inputs = torch.from_numpy(inputs).type(torch.float).to(device)\n",
    "\n",
    "        labels = torch.from_numpy(labels.flatten()).type(torch.long).to(device)\n",
    "\n",
    "        # zero the parameter gradients\n",
    "        optimizer.zero_grad()\n",
    "\n",
    "        # forward + backward + optimize\n",
    "        outputs,rnn_outputs = net(inputs)\n",
    "\n",
    "        loss = criterion(outputs.reshape(-1, act_size), labels)\n",
    "        loss.backward()\n",
    "        optimizer.step()\n",
    "\n",
    "        # print statistics\n",
    "        running_loss += loss.item()\n",
    "        if i % eval_every == eval_every - 1:\n",
    "\n",
    "            running_loss = 0.0\n",
    "\n",
    "            with torch.no_grad():        \n",
    "                perf = utils.get_performance(net,env,device)\n",
    "                perf_over_training[count_eval] = perf\n",
    "                pbar.set_description(f'Performance is {perf} at gradient step {i}')\n",
    "            count_eval += 1\n",
    "\n",
    "            #break if performance above 90\n",
    "            if perf >= 0.90:\n",
    "                break\n",
    "\n",
    "\n",
    "\n",
    "    pbar.set_description(f'Performance is {perf} at gradient step {i}')\n",
    "    \n",
    "    return net,perf_over_training"
   ]
  },
  {
   "cell_type": "code",
   "execution_count": null,
   "id": "40d8c3ee",
   "metadata": {},
   "outputs": [
    {
     "name": "stderr",
     "output_type": "stream",
     "text": [
      "Performance is 0.06 at gradient step 299:  70%|██████▉   | 349/500 [01:01<00:24,  6.14it/s] "
     ]
    }
   ],
   "source": [
    "device = 'cuda' if torch.cuda.is_available() else 'cpu'\n",
    "\n",
    "'''\n",
    "ns = [32,32,16,8]\n",
    "\n",
    "A_tril = torch.zeros((len(ns), len(ns)))\n",
    "A_tril[-1, :] = 1\n",
    "B_mask = F.dropout(utils.create_mask_given_A(A_tril, ns), 0.9) \n",
    "W_hat, Ws = utils.create_random_block_stable_symmetric_weights(ns)\n",
    "M_hat = utils.get_M_given_sym_W(W_hat)\n",
    "\n",
    "W_hat.to(device)\n",
    "B_mask.to(device)\n",
    "M_hat.to(device)\n",
    "\n",
    "#net = models.GW_RNNNet(input_size=ob_size, ns=ns, output_size=act_size,device = device,W_hat = W_hat,M_hat = M_hat,B_mask = B_mask, dt = 15).to(device) \n",
    "'''\n",
    "\n",
    "net = models.RNNNet(input_size=ob_size, hidden_size=256, output_size=act_size,device = device, dt = 30).to(device)   \n",
    "\n",
    "\n",
    "criterion = nn.CrossEntropyLoss()\n",
    "optimizer = torch.optim.Adam(net.parameters(), lr=1e-3)\n",
    "\n",
    "num_gradient_steps = 500\n",
    "eval_every = 100\n",
    "\n",
    "training_params = {\"num_gradient_steps\": num_gradient_steps, \"eval_every\": eval_every}\n",
    "\n",
    "net_trained, perf_over_training = train(net,criterion,optimizer,training_params)\n",
    "\n"
   ]
  },
  {
   "cell_type": "code",
   "execution_count": null,
   "id": "aad69852",
   "metadata": {},
   "outputs": [],
   "source": [
    "torch.linalg.norm(net.rnn.h2h.weight,ord = 2)"
   ]
  },
  {
   "cell_type": "code",
   "execution_count": null,
   "id": "75355705",
   "metadata": {},
   "outputs": [],
   "source": [
    "grad_steps = np.linspace(0,num_gradient_steps,len(perf_over_training))\n",
    "plt.plot(grad_steps,perf_over_training)\n",
    "plt.xlabel('Number of Gradient Steps')\n",
    "plt.ylabel('Performance')\n",
    "plt.title('dly task')"
   ]
  }
 ],
 "metadata": {
  "kernelspec": {
   "display_name": "Python [conda env:leokoz8-rnns-of-rnns-env] *",
   "language": "python",
   "name": "conda-env-leokoz8-rnns-of-rnns-env-py"
  },
  "language_info": {
   "codemirror_mode": {
    "name": "ipython",
    "version": 3
   },
   "file_extension": ".py",
   "mimetype": "text/x-python",
   "name": "python",
   "nbconvert_exporter": "python",
   "pygments_lexer": "ipython3",
   "version": "3.8.16"
  }
 },
 "nbformat": 4,
 "nbformat_minor": 5
}
