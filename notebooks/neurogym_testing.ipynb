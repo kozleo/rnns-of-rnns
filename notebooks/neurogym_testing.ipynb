{
 "cells": [
  {
   "cell_type": "code",
   "execution_count": 1,
   "id": "0c9b3d6f",
   "metadata": {},
   "outputs": [
    {
     "name": "stdout",
     "output_type": "stream",
     "text": [
      "/rdma/vast-rdma/vast/fiete/leokoz8/code/rnns-of-rnns\n"
     ]
    }
   ],
   "source": [
    "cd /om2/user/leokoz8/code/rnns-of-rnns"
   ]
  },
  {
   "cell_type": "code",
   "execution_count": 2,
   "id": "eac9c917",
   "metadata": {},
   "outputs": [],
   "source": [
    "import numpy as np\n",
    "import matplotlib.pyplot as plt\n",
    "import torch\n",
    "from torch import nn\n",
    "from torch.nn import functional as F\n",
    "import tqdm\n",
    "from src import models, utils\n",
    "\n",
    "\n",
    "from neurogym.wrappers import ScheduleEnvs\n",
    "from neurogym.utils.scheduler import RandomSchedule\n",
    "from neurogym.wrappers.block import MultiEnvs\n",
    "from neurogym import Dataset\n",
    "from Mod_Cog.mod_cog_tasks import *\n",
    "\n",
    "envs = [go(), rtgo(), dlygo(), anti(), rtanti(), dlyanti(),\n",
    "        dm1(), dm2(), ctxdm1(), ctxdm2(), multidm(), dlydm1(), dlydm2(),\n",
    "        ctxdlydm1(), ctxdlydm2(), multidlydm(), dms(), dnms(), dmc(), dnmc(),\n",
    "        dlygointr(),dlygointl(),dlyantiintr(),dlyantiintl(),dlydm1intr(),dlydm1intl(),\n",
    "        dlydm2intr(),dlydm2intl(),ctxdlydm1intr(),ctxdlydm1intl(),ctxdlydm2intr(),ctxdlydm2intl(),\n",
    "        multidlydmintr(),multidlydmintl(),dmsintr(),dmsintl(),dnmsintr(),\n",
    "        dnmsintl(),dmcintr(),dmcintl(),dnmcintr(),dnmcintl(), goseqr(), rtgoseqr(), dlygoseqr(), \n",
    "        antiseqr(), rtantiseqr(), dlyantiseqr(), dm1seqr(), dm2seqr(), ctxdm1seqr(), ctxdm2seqr(), \n",
    "        multidmseqr(), dlydm1seqr(),dlydm2seqr(),ctxdlydm1seqr(), ctxdlydm2seqr(), multidlydmseqr(),\n",
    "        dmsseqr(), dnmsseqr(), dmcseqr(), dnmcseqr(), goseql(), rtgoseql(), dlygoseql(), antiseql(),\n",
    "        rtantiseql(), dlyantiseql(), dm1seql(), dm2seql(), ctxdm1seql(), ctxdm2seql(), multidmseql(), dlydm1seql(),\n",
    "        dlydm2seql(),ctxdlydm1seql(), ctxdlydm2seql(), multidlydmseql(), dmsseql(), dnmsseql(), dmcseql(), dnmcseql()]\n",
    "\n",
    "envs_names = ['go', 'rtgo', 'dlygo', 'anti', 'rtanti', 'dlyanti','dm1', 'dm2', 'ctxdm1', 'ctxdm2', 'multidm', 'dlydm1', 'dlydm2',\n",
    "        'ctxdlydm1', 'ctxdlydm2', 'multidlydm', 'dms', 'dnms', 'dmc', 'dnmc',\n",
    "        'dlygointr','dlygointl','dlyantiintr','dlyantiintl','dlydm1intr','dlydm1intl',\n",
    "        'dlydm2intr','dlydm2intl','ctxdlydm1intr','ctxdlydm1intl','ctxdlydm2intr','ctxdlydm2intl',\n",
    "        'multidlydmintr','multidlydmintl','dmsintr','dmsintl','dnmsintr',\n",
    "        'dnmsintl','dmcintr','dmcintl','dnmcintr','dnmcintl', 'goseqr', 'rtgoseqr', 'dlygoseqr', \n",
    "        'antiseqr', 'rtantiseqr', 'dlyantiseqr', 'dm1seqr', 'dm2seqr', 'ctxdm1seqr', 'ctxdm2seqr', \n",
    "        'multidmseqr', 'dlydm1seqr','dlydm2seqr','ctxdlydm1seqr', 'ctxdlydm2seqr', 'multidlydmseqr',\n",
    "        'dmsseqr', 'dnmsseqr', 'dmcseqr', 'dnmcseqr', 'goseql', 'rtgoseql', 'dlygoseql', 'antiseql',\n",
    "        'rtantiseql', 'dlyantiseql', 'dm1seql', 'dm2seql', 'ctxdm1seql', 'ctxdm2seql', 'multidmseql', 'dlydm1seql',\n",
    "        'dlydm2seql','ctxdlydm1seql', 'ctxdlydm2seql', 'multidlydmseql', 'dmsseql', 'dnmsseql', 'dmcseql', 'dnmcseql']\n",
    "\n",
    "extra_tasks = {'envs': envs, 'envs_names': envs_names}\n",
    "\n",
    "\n",
    "\n",
    "\n",
    "\n",
    "%load_ext autoreload\n",
    "%autoreload 2"
   ]
  },
  {
   "cell_type": "code",
   "execution_count": 9,
   "id": "388b4eb5",
   "metadata": {},
   "outputs": [
    {
     "data": {
      "text/plain": [
       "82"
      ]
     },
     "execution_count": 9,
     "metadata": {},
     "output_type": "execute_result"
    }
   ],
   "source": [
    "len(envs_names)"
   ]
  },
  {
   "cell_type": "code",
   "execution_count": 3,
   "id": "615936b7",
   "metadata": {},
   "outputs": [],
   "source": [
    "utils.pickle_store(filename = 'extra_task_names',your_data = envs_names, path = './')"
   ]
  },
  {
   "cell_type": "code",
   "execution_count": 3,
   "id": "dbdc71b7",
   "metadata": {},
   "outputs": [],
   "source": [
    "# define task here\n",
    "\n",
    "dataset = Dataset(dm1(), batch_size=32, seq_len=100)\n",
    "env = dataset.env\n",
    "ob_size = env.observation_space.shape[0]\n",
    "act_size = env.action_space.n\n",
    "\n"
   ]
  },
  {
   "cell_type": "code",
   "execution_count": 26,
   "id": "a409fbaa",
   "metadata": {},
   "outputs": [],
   "source": [
    "def train(net,criterion, optimizer, training_params):\n",
    "    \n",
    "    running_loss = 0.0\n",
    "    \n",
    "    num_gradient_steps = training_params['num_gradient_steps']\n",
    "    eval_every = training_params['eval_every']\n",
    "    \n",
    "\n",
    "    pbar = tqdm.trange(num_gradient_steps)\n",
    "    count_eval = 0\n",
    "    perf_over_training = torch.zeros(int(num_gradient_steps/eval_every))\n",
    "\n",
    "    for i in pbar:\n",
    "        inputs, labels = dataset()\n",
    "        inputs = torch.from_numpy(inputs).type(torch.float).to(device)\n",
    "\n",
    "        labels = torch.from_numpy(labels.flatten()).type(torch.long).to(device)\n",
    "\n",
    "        # zero the parameter gradients\n",
    "        optimizer.zero_grad()\n",
    "\n",
    "        # forward + backward + optimize\n",
    "        outputs,rnn_outputs = net(inputs)\n",
    "        \n",
    "        print(outputs.norm())\n",
    "\n",
    "        loss = criterion(outputs.reshape(-1, act_size), labels)\n",
    "        loss.backward()\n",
    "        optimizer.step()\n",
    "\n",
    "        # print statistics\n",
    "        running_loss += loss.item()\n",
    "        if i % eval_every == eval_every - 1:\n",
    "            \n",
    "\n",
    "\n",
    "            running_loss = 0.0\n",
    "\n",
    "            with torch.no_grad():        \n",
    "                perf = utils.get_performance(net,env,device)\n",
    "                perf_over_training[count_eval] = perf\n",
    "                pbar.set_description(f'Performance is {perf} at gradient step {i}')\n",
    "            count_eval += 1\n",
    "\n",
    "            #break if performance above 90\n",
    "            if perf >= 0.90:\n",
    "                break\n",
    "\n",
    "\n",
    "\n",
    "    pbar.set_description(f'Performance is {perf} at gradient step {i}')\n",
    "    \n",
    "    return net,perf_over_training"
   ]
  },
  {
   "cell_type": "code",
   "execution_count": 27,
   "id": "40d8c3ee",
   "metadata": {},
   "outputs": [
    {
     "name": "stderr",
     "output_type": "stream",
     "text": [
      "  0%|          | 1/1000 [00:00<03:50,  4.34it/s]"
     ]
    },
    {
     "name": "stdout",
     "output_type": "stream",
     "text": [
      "tensor(244.2274, device='cuda:0', grad_fn=<NormBackward1>)\n"
     ]
    },
    {
     "name": "stderr",
     "output_type": "stream",
     "text": [
      "\r",
      "  0%|          | 2/1000 [00:00<03:53,  4.28it/s]"
     ]
    },
    {
     "name": "stdout",
     "output_type": "stream",
     "text": [
      "tensor(77.1484, device='cuda:0', grad_fn=<NormBackward1>)\n"
     ]
    },
    {
     "name": "stderr",
     "output_type": "stream",
     "text": [
      "\r",
      "  0%|          | 3/1000 [00:00<03:52,  4.28it/s]"
     ]
    },
    {
     "name": "stdout",
     "output_type": "stream",
     "text": [
      "tensor(114.2049, device='cuda:0', grad_fn=<NormBackward1>)\n"
     ]
    },
    {
     "name": "stderr",
     "output_type": "stream",
     "text": [
      "\r",
      "  0%|          | 4/1000 [00:00<03:52,  4.29it/s]"
     ]
    },
    {
     "name": "stdout",
     "output_type": "stream",
     "text": [
      "tensor(189.2748, device='cuda:0', grad_fn=<NormBackward1>)\n"
     ]
    },
    {
     "name": "stderr",
     "output_type": "stream",
     "text": [
      "\r",
      "  0%|          | 5/1000 [00:01<03:50,  4.31it/s]"
     ]
    },
    {
     "name": "stdout",
     "output_type": "stream",
     "text": [
      "tensor(297.3326, device='cuda:0', grad_fn=<NormBackward1>)\n"
     ]
    },
    {
     "name": "stderr",
     "output_type": "stream",
     "text": [
      "\r",
      "  1%|          | 6/1000 [00:01<03:50,  4.31it/s]"
     ]
    },
    {
     "name": "stdout",
     "output_type": "stream",
     "text": [
      "tensor(272.3758, device='cuda:0', grad_fn=<NormBackward1>)\n"
     ]
    },
    {
     "name": "stderr",
     "output_type": "stream",
     "text": [
      "\r",
      "  1%|          | 7/1000 [00:01<03:49,  4.32it/s]"
     ]
    },
    {
     "name": "stdout",
     "output_type": "stream",
     "text": [
      "tensor(255.2097, device='cuda:0', grad_fn=<NormBackward1>)\n"
     ]
    },
    {
     "name": "stderr",
     "output_type": "stream",
     "text": [
      "\r",
      "  1%|          | 8/1000 [00:01<03:49,  4.31it/s]"
     ]
    },
    {
     "name": "stdout",
     "output_type": "stream",
     "text": [
      "tensor(237.5729, device='cuda:0', grad_fn=<NormBackward1>)\n"
     ]
    },
    {
     "name": "stderr",
     "output_type": "stream",
     "text": [
      "\r",
      "  1%|          | 9/1000 [00:02<03:50,  4.30it/s]"
     ]
    },
    {
     "name": "stdout",
     "output_type": "stream",
     "text": [
      "tensor(224.6168, device='cuda:0', grad_fn=<NormBackward1>)\n"
     ]
    },
    {
     "name": "stderr",
     "output_type": "stream",
     "text": [
      "\r",
      "  1%|          | 10/1000 [00:02<03:49,  4.32it/s]"
     ]
    },
    {
     "name": "stdout",
     "output_type": "stream",
     "text": [
      "tensor(219.1816, device='cuda:0', grad_fn=<NormBackward1>)\n"
     ]
    },
    {
     "name": "stderr",
     "output_type": "stream",
     "text": [
      "\r",
      "  1%|          | 11/1000 [00:02<03:48,  4.32it/s]"
     ]
    },
    {
     "name": "stdout",
     "output_type": "stream",
     "text": [
      "tensor(221.1444, device='cuda:0', grad_fn=<NormBackward1>)\n"
     ]
    },
    {
     "name": "stderr",
     "output_type": "stream",
     "text": [
      "\r",
      "  1%|          | 12/1000 [00:02<03:49,  4.31it/s]"
     ]
    },
    {
     "name": "stdout",
     "output_type": "stream",
     "text": [
      "tensor(228.4033, device='cuda:0', grad_fn=<NormBackward1>)\n"
     ]
    },
    {
     "name": "stderr",
     "output_type": "stream",
     "text": [
      "  1%|▏         | 13/1000 [00:03<03:56,  4.18it/s]"
     ]
    },
    {
     "name": "stdout",
     "output_type": "stream",
     "text": [
      "tensor(237.7623, device='cuda:0', grad_fn=<NormBackward1>)\n"
     ]
    },
    {
     "name": "stderr",
     "output_type": "stream",
     "text": [
      "\n"
     ]
    },
    {
     "ename": "KeyboardInterrupt",
     "evalue": "",
     "output_type": "error",
     "traceback": [
      "\u001b[0;31m---------------------------------------------------------------------------\u001b[0m",
      "\u001b[0;31mKeyboardInterrupt\u001b[0m                         Traceback (most recent call last)",
      "Input \u001b[0;32mIn [27]\u001b[0m, in \u001b[0;36m<cell line: 30>\u001b[0;34m()\u001b[0m\n\u001b[1;32m     26\u001b[0m eval_every \u001b[38;5;241m=\u001b[39m \u001b[38;5;241m100\u001b[39m\n\u001b[1;32m     28\u001b[0m training_params \u001b[38;5;241m=\u001b[39m {\u001b[38;5;124m\"\u001b[39m\u001b[38;5;124mnum_gradient_steps\u001b[39m\u001b[38;5;124m\"\u001b[39m: num_gradient_steps, \u001b[38;5;124m\"\u001b[39m\u001b[38;5;124meval_every\u001b[39m\u001b[38;5;124m\"\u001b[39m: eval_every}\n\u001b[0;32m---> 30\u001b[0m net_trained, perf_over_training \u001b[38;5;241m=\u001b[39m \u001b[43mtrain\u001b[49m\u001b[43m(\u001b[49m\u001b[43mnet\u001b[49m\u001b[43m,\u001b[49m\u001b[43mcriterion\u001b[49m\u001b[43m,\u001b[49m\u001b[43moptimizer\u001b[49m\u001b[43m,\u001b[49m\u001b[43mtraining_params\u001b[49m\u001b[43m)\u001b[49m\n",
      "Input \u001b[0;32mIn [26]\u001b[0m, in \u001b[0;36mtrain\u001b[0;34m(net, criterion, optimizer, training_params)\u001b[0m\n\u001b[1;32m     11\u001b[0m perf_over_training \u001b[38;5;241m=\u001b[39m torch\u001b[38;5;241m.\u001b[39mzeros(\u001b[38;5;28mint\u001b[39m(num_gradient_steps\u001b[38;5;241m/\u001b[39meval_every))\n\u001b[1;32m     13\u001b[0m \u001b[38;5;28;01mfor\u001b[39;00m i \u001b[38;5;129;01min\u001b[39;00m pbar:\n\u001b[0;32m---> 14\u001b[0m     inputs, labels \u001b[38;5;241m=\u001b[39m \u001b[43mdataset\u001b[49m\u001b[43m(\u001b[49m\u001b[43m)\u001b[49m\n\u001b[1;32m     15\u001b[0m     inputs \u001b[38;5;241m=\u001b[39m torch\u001b[38;5;241m.\u001b[39mfrom_numpy(inputs)\u001b[38;5;241m.\u001b[39mtype(torch\u001b[38;5;241m.\u001b[39mfloat)\u001b[38;5;241m.\u001b[39mto(device)\n\u001b[1;32m     17\u001b[0m     labels \u001b[38;5;241m=\u001b[39m torch\u001b[38;5;241m.\u001b[39mfrom_numpy(labels\u001b[38;5;241m.\u001b[39mflatten())\u001b[38;5;241m.\u001b[39mtype(torch\u001b[38;5;241m.\u001b[39mlong)\u001b[38;5;241m.\u001b[39mto(device)\n",
      "File \u001b[0;32m/net/vast-storage.ib.cluster/scratch/vast/fiete/leokoz8/code/rnns-of-rnns/neurogym/neurogym/utils/data.py:113\u001b[0m, in \u001b[0;36mDataset.__call__\u001b[0;34m(self, *args, **kwargs)\u001b[0m\n\u001b[1;32m    112\u001b[0m \u001b[38;5;28;01mdef\u001b[39;00m \u001b[38;5;21m__call__\u001b[39m(\u001b[38;5;28mself\u001b[39m, \u001b[38;5;241m*\u001b[39margs, \u001b[38;5;241m*\u001b[39m\u001b[38;5;241m*\u001b[39mkwargs):\n\u001b[0;32m--> 113\u001b[0m     \u001b[38;5;28;01mreturn\u001b[39;00m \u001b[38;5;28;43mself\u001b[39;49m\u001b[38;5;241;43m.\u001b[39;49m\u001b[38;5;21;43m__next__\u001b[39;49m\u001b[43m(\u001b[49m\u001b[38;5;241;43m*\u001b[39;49m\u001b[38;5;241;43m*\u001b[39;49m\u001b[43mkwargs\u001b[49m\u001b[43m)\u001b[49m\n",
      "File \u001b[0;32m/net/vast-storage.ib.cluster/scratch/vast/fiete/leokoz8/code/rnns-of-rnns/neurogym/neurogym/utils/data.py:124\u001b[0m, in \u001b[0;36mDataset.__next__\u001b[0;34m(self, **kwargs)\u001b[0m\n\u001b[1;32m    121\u001b[0m \u001b[38;5;28mself\u001b[39m\u001b[38;5;241m.\u001b[39m_seq_end \u001b[38;5;241m=\u001b[39m \u001b[38;5;28mself\u001b[39m\u001b[38;5;241m.\u001b[39m_seq_start \u001b[38;5;241m+\u001b[39m \u001b[38;5;28mself\u001b[39m\u001b[38;5;241m.\u001b[39mseq_len\n\u001b[1;32m    123\u001b[0m \u001b[38;5;28;01mif\u001b[39;00m \u001b[38;5;28mself\u001b[39m\u001b[38;5;241m.\u001b[39m_seq_end \u001b[38;5;241m>\u001b[39m\u001b[38;5;241m=\u001b[39m \u001b[38;5;28mself\u001b[39m\u001b[38;5;241m.\u001b[39m_cache_len:\n\u001b[0;32m--> 124\u001b[0m     \u001b[38;5;28;43mself\u001b[39;49m\u001b[38;5;241;43m.\u001b[39;49m\u001b[43m_cache\u001b[49m\u001b[43m(\u001b[49m\u001b[38;5;241;43m*\u001b[39;49m\u001b[38;5;241;43m*\u001b[39;49m\u001b[43mkwargs\u001b[49m\u001b[43m)\u001b[49m\n\u001b[1;32m    126\u001b[0m \u001b[38;5;28;01mif\u001b[39;00m \u001b[38;5;28mself\u001b[39m\u001b[38;5;241m.\u001b[39mbatch_first:\n\u001b[1;32m    127\u001b[0m     inputs \u001b[38;5;241m=\u001b[39m \u001b[38;5;28mself\u001b[39m\u001b[38;5;241m.\u001b[39m_inputs[:, \u001b[38;5;28mself\u001b[39m\u001b[38;5;241m.\u001b[39m_seq_start:\u001b[38;5;28mself\u001b[39m\u001b[38;5;241m.\u001b[39m_seq_end, \u001b[38;5;241m.\u001b[39m\u001b[38;5;241m.\u001b[39m\u001b[38;5;241m.\u001b[39m]\n",
      "File \u001b[0;32m/net/vast-storage.ib.cluster/scratch/vast/fiete/leokoz8/code/rnns-of-rnns/neurogym/neurogym/utils/data.py:91\u001b[0m, in \u001b[0;36mDataset._cache\u001b[0;34m(self, **kwargs)\u001b[0m\n\u001b[1;32m     88\u001b[0m seq_end \u001b[38;5;241m=\u001b[39m \u001b[38;5;241m0\u001b[39m\n\u001b[1;32m     89\u001b[0m \u001b[38;5;28;01mwhile\u001b[39;00m seq_end \u001b[38;5;241m<\u001b[39m \u001b[38;5;28mself\u001b[39m\u001b[38;5;241m.\u001b[39m_cache_len:\n\u001b[1;32m     90\u001b[0m     \u001b[38;5;66;03m# TODO: Right now this only works for env with new_trial\u001b[39;00m\n\u001b[0;32m---> 91\u001b[0m     \u001b[43menv\u001b[49m\u001b[38;5;241;43m.\u001b[39;49m\u001b[43mnew_trial\u001b[49m\u001b[43m(\u001b[49m\u001b[38;5;241;43m*\u001b[39;49m\u001b[38;5;241;43m*\u001b[39;49m\u001b[43mkwargs\u001b[49m\u001b[43m)\u001b[49m\n\u001b[1;32m     92\u001b[0m     ob, gt \u001b[38;5;241m=\u001b[39m env\u001b[38;5;241m.\u001b[39mob, env\u001b[38;5;241m.\u001b[39mgt\n\u001b[1;32m     93\u001b[0m     seq_len \u001b[38;5;241m=\u001b[39m ob\u001b[38;5;241m.\u001b[39mshape[\u001b[38;5;241m0\u001b[39m]\n",
      "File \u001b[0;32m/net/vast-storage.ib.cluster/scratch/vast/fiete/leokoz8/code/rnns-of-rnns/neurogym/neurogym/core.py:180\u001b[0m, in \u001b[0;36mTrialEnv.new_trial\u001b[0;34m(self, **kwargs)\u001b[0m\n\u001b[1;32m    178\u001b[0m \u001b[38;5;28mself\u001b[39m\u001b[38;5;241m.\u001b[39m_ob_built \u001b[38;5;241m=\u001b[39m \u001b[38;5;28;01mFalse\u001b[39;00m\n\u001b[1;32m    179\u001b[0m \u001b[38;5;28mself\u001b[39m\u001b[38;5;241m.\u001b[39m_gt_built \u001b[38;5;241m=\u001b[39m \u001b[38;5;28;01mFalse\u001b[39;00m\n\u001b[0;32m--> 180\u001b[0m trial \u001b[38;5;241m=\u001b[39m \u001b[38;5;28;43mself\u001b[39;49m\u001b[38;5;241;43m.\u001b[39;49m\u001b[43m_new_trial\u001b[49m\u001b[43m(\u001b[49m\u001b[38;5;241;43m*\u001b[39;49m\u001b[38;5;241;43m*\u001b[39;49m\u001b[43mkwargs\u001b[49m\u001b[43m)\u001b[49m\n\u001b[1;32m    181\u001b[0m \u001b[38;5;28mself\u001b[39m\u001b[38;5;241m.\u001b[39mtrial \u001b[38;5;241m=\u001b[39m trial\n\u001b[1;32m    182\u001b[0m \u001b[38;5;28mself\u001b[39m\u001b[38;5;241m.\u001b[39mnum_tr \u001b[38;5;241m+\u001b[39m\u001b[38;5;241m=\u001b[39m \u001b[38;5;241m1\u001b[39m  \u001b[38;5;66;03m# Increment trial count\u001b[39;00m\n",
      "File \u001b[0;32m/net/vast-storage.ib.cluster/scratch/vast/fiete/leokoz8/code/rnns-of-rnns/neurogym/Mod_Cog/mod_cog_tasks.py:341\u001b[0m, in \u001b[0;36m_DMFamily._new_trial\u001b[0;34m(self, **kwargs)\u001b[0m\n\u001b[1;32m    339\u001b[0m coh1, coh2 \u001b[38;5;241m=\u001b[39m \u001b[38;5;241m0\u001b[39m, \u001b[38;5;241m0\u001b[39m\n\u001b[1;32m    340\u001b[0m \u001b[38;5;28;01mif\u001b[39;00m \u001b[38;5;28mself\u001b[39m\u001b[38;5;241m.\u001b[39mstim_mod1:\n\u001b[0;32m--> 341\u001b[0m     \u001b[38;5;28;43mself\u001b[39;49m\u001b[38;5;241;43m.\u001b[39;49m\u001b[43m_add_singlemod\u001b[49m\u001b[43m(\u001b[49m\u001b[43mtrial\u001b[49m\u001b[43m,\u001b[49m\u001b[43m \u001b[49m\u001b[43mmod\u001b[49m\u001b[38;5;241;43m=\u001b[39;49m\u001b[38;5;241;43m1\u001b[39;49m\u001b[43m)\u001b[49m\n\u001b[1;32m    342\u001b[0m     coh1 \u001b[38;5;241m+\u001b[39m\u001b[38;5;241m=\u001b[39m \u001b[38;5;28mself\u001b[39m\u001b[38;5;241m.\u001b[39mw_mod1 \u001b[38;5;241m*\u001b[39m trial[\u001b[38;5;124m\"\u001b[39m\u001b[38;5;124mcoh1_mod1\u001b[39m\u001b[38;5;124m\"\u001b[39m]\n\u001b[1;32m    343\u001b[0m     coh2 \u001b[38;5;241m+\u001b[39m\u001b[38;5;241m=\u001b[39m \u001b[38;5;28mself\u001b[39m\u001b[38;5;241m.\u001b[39mw_mod1 \u001b[38;5;241m*\u001b[39m trial[\u001b[38;5;124m\"\u001b[39m\u001b[38;5;124mcoh2_mod1\u001b[39m\u001b[38;5;124m\"\u001b[39m]\n",
      "File \u001b[0;32m/net/vast-storage.ib.cluster/scratch/vast/fiete/leokoz8/code/rnns-of-rnns/neurogym/Mod_Cog/mod_cog_tasks.py:307\u001b[0m, in \u001b[0;36m_DMFamily._add_singlemod\u001b[0;34m(self, trial, mod)\u001b[0m\n\u001b[1;32m    304\u001b[0m     trial[\u001b[38;5;124m\"\u001b[39m\u001b[38;5;124mcoh2\u001b[39m\u001b[38;5;124m\"\u001b[39m \u001b[38;5;241m+\u001b[39m mod] \u001b[38;5;241m=\u001b[39m coh2 \u001b[38;5;241m=\u001b[39m \u001b[38;5;241m0.5\u001b[39m \u001b[38;5;241m-\u001b[39m coh \u001b[38;5;241m/\u001b[39m \u001b[38;5;241m2\u001b[39m\n\u001b[1;32m    306\u001b[0m \u001b[38;5;66;03m# stim = cosinebump(trial['theta1'], self.theta, coh1)\u001b[39;00m\n\u001b[0;32m--> 307\u001b[0m stim \u001b[38;5;241m=\u001b[39m \u001b[43m_gaussianbump\u001b[49m\u001b[43m(\u001b[49m\u001b[43mtrial\u001b[49m\u001b[43m[\u001b[49m\u001b[38;5;124;43m\"\u001b[39;49m\u001b[38;5;124;43mtheta1\u001b[39;49m\u001b[38;5;124;43m\"\u001b[39;49m\u001b[43m]\u001b[49m\u001b[43m,\u001b[49m\u001b[43m \u001b[49m\u001b[38;5;28;43mself\u001b[39;49m\u001b[38;5;241;43m.\u001b[39;49m\u001b[43mtheta\u001b[49m\u001b[43m,\u001b[49m\u001b[43m \u001b[49m\u001b[43mcoh1\u001b[49m\u001b[43m)\u001b[49m\n\u001b[1;32m    308\u001b[0m \u001b[38;5;28mself\u001b[39m\u001b[38;5;241m.\u001b[39madd_ob(stim, period1, where\u001b[38;5;241m=\u001b[39m\u001b[38;5;124m\"\u001b[39m\u001b[38;5;124mstimulus\u001b[39m\u001b[38;5;124m\"\u001b[39m \u001b[38;5;241m+\u001b[39m mod)\n\u001b[1;32m    309\u001b[0m \u001b[38;5;66;03m# stim = cosinebump(trial['theta2'], self.theta, coh2)\u001b[39;00m\n",
      "File \u001b[0;32m/net/vast-storage.ib.cluster/scratch/vast/fiete/leokoz8/code/rnns-of-rnns/neurogym/Mod_Cog/mod_cog_tasks.py:21\u001b[0m, in \u001b[0;36m_gaussianbump\u001b[0;34m(loc, theta, strength)\u001b[0m\n\u001b[1;32m     20\u001b[0m \u001b[38;5;28;01mdef\u001b[39;00m \u001b[38;5;21m_gaussianbump\u001b[39m(loc, theta, strength):\n\u001b[0;32m---> 21\u001b[0m     dist \u001b[38;5;241m=\u001b[39m _get_dist(\u001b[43mloc\u001b[49m\u001b[43m \u001b[49m\u001b[38;5;241;43m-\u001b[39;49m\u001b[43m \u001b[49m\u001b[43mtheta\u001b[49m)  \u001b[38;5;66;03m# periodic boundary\u001b[39;00m\n\u001b[1;32m     22\u001b[0m     dist \u001b[38;5;241m/\u001b[39m\u001b[38;5;241m=\u001b[39m np\u001b[38;5;241m.\u001b[39mpi \u001b[38;5;241m/\u001b[39m \u001b[38;5;241m8\u001b[39m\n\u001b[1;32m     23\u001b[0m     \u001b[38;5;28;01mreturn\u001b[39;00m \u001b[38;5;241m0.8\u001b[39m \u001b[38;5;241m*\u001b[39m np\u001b[38;5;241m.\u001b[39mexp(\u001b[38;5;241m-\u001b[39m(dist\u001b[38;5;241m*\u001b[39m\u001b[38;5;241m*\u001b[39m\u001b[38;5;241m2\u001b[39m) \u001b[38;5;241m/\u001b[39m \u001b[38;5;241m2\u001b[39m) \u001b[38;5;241m*\u001b[39m strength\n",
      "\u001b[0;31mKeyboardInterrupt\u001b[0m: "
     ]
    }
   ],
   "source": [
    "device = 'cuda' if torch.cuda.is_available() else 'cpu'\n",
    "\n",
    "'''\n",
    "ns = [32,32,16,8]\n",
    "\n",
    "A_tril = torch.zeros((len(ns), len(ns)))\n",
    "A_tril[-1, :] = 1\n",
    "B_mask = F.dropout(utils.create_mask_given_A(A_tril, ns), 0.9) \n",
    "W_hat, Ws = utils.create_random_block_stable_symmetric_weights(ns)\n",
    "M_hat = utils.get_M_given_sym_W(W_hat)\n",
    "\n",
    "W_hat.to(device)\n",
    "B_mask.to(device)\n",
    "M_hat.to(device)\n",
    "\n",
    "#net = models.GW_RNNNet(input_size=ob_size, ns=ns, output_size=act_size,device = device,W_hat = W_hat,M_hat = M_hat,B_mask = B_mask, dt = 15).to(device) \n",
    "'''\n",
    "\n",
    "net = models.RNNNet(input_size=ob_size, hidden_size=256, output_size=act_size,device = device, dt = 30,constraint = \"spectral\").to(device)   \n",
    "\n",
    "\n",
    "criterion = nn.CrossEntropyLoss()\n",
    "optimizer = torch.optim.Adam(net.parameters(), lr=1e-3)\n",
    "\n",
    "num_gradient_steps = 1000\n",
    "eval_every = 100\n",
    "\n",
    "training_params = {\"num_gradient_steps\": num_gradient_steps, \"eval_every\": eval_every}\n",
    "\n",
    "net_trained, perf_over_training = train(net,criterion,optimizer,training_params)\n",
    "\n"
   ]
  },
  {
   "cell_type": "code",
   "execution_count": 22,
   "id": "1903fc5b",
   "metadata": {},
   "outputs": [
    {
     "name": "stderr",
     "output_type": "stream",
     "text": [
      "/tmp/ipykernel_65520/1696113926.py:1: UserWarning: The .grad attribute of a Tensor that is not a leaf Tensor is being accessed. Its .grad attribute won't be populated during autograd.backward(). If you indeed want the .grad field to be populated for a non-leaf Tensor, use .retain_grad() on the non-leaf Tensor. If you access the non-leaf Tensor by mistake, make sure you access the leaf Tensor instead. See github.com/pytorch/pytorch/pull/30531 for more informations. (Triggered internally at /opt/conda/conda-bld/pytorch_1670525552411/work/build/aten/src/ATen/core/TensorBody.h:480.)\n",
      "  net.rnn.h2h.weight.grad\n"
     ]
    }
   ],
   "source": []
  },
  {
   "cell_type": "code",
   "execution_count": 7,
   "id": "aad69852",
   "metadata": {},
   "outputs": [
    {
     "data": {
      "text/plain": [
       "tensor(3.7372, device='cuda:0', grad_fn=<AmaxBackward0>)"
      ]
     },
     "execution_count": 7,
     "metadata": {},
     "output_type": "execute_result"
    }
   ],
   "source": [
    "torch.linalg.norm(net.rnn.h2h.weight,ord = 2)"
   ]
  },
  {
   "cell_type": "code",
   "execution_count": 8,
   "id": "75355705",
   "metadata": {},
   "outputs": [
    {
     "data": {
      "text/plain": [
       "Text(0.5, 1.0, 'dly task')"
      ]
     },
     "execution_count": 8,
     "metadata": {},
     "output_type": "execute_result"
    },
    {
     "data": {
      "image/png": "[encoded data removed]",
      "text/plain": [
       "<Figure size 432x288 with 1 Axes>"
      ]
     },
     "metadata": {
      "needs_background": "light"
     },
     "output_type": "display_data"
    }
   ],
   "source": [
    "grad_steps = np.linspace(0,num_gradient_steps,len(perf_over_training))\n",
    "plt.plot(grad_steps,perf_over_training)\n",
    "plt.xlabel('Number of Gradient Steps')\n",
    "plt.ylabel('Performance')\n",
    "plt.title('dly task')"
   ]
  }
 ],
 "metadata": {
  "kernelspec": {
   "display_name": "Python [conda env:leokoz8-rnns-of-rnns-env] *",
   "language": "python",
   "name": "conda-env-leokoz8-rnns-of-rnns-env-py"
  },
  "language_info": {
   "codemirror_mode": {
    "name": "ipython",
    "version": 3
   },
   "file_extension": ".py",
   "mimetype": "text/x-python",
   "name": "python",
   "nbconvert_exporter": "python",
   "pygments_lexer": "ipython3",
   "version": "3.8.16"
  }
 },
 "nbformat": 4,
 "nbformat_minor": 5
}
