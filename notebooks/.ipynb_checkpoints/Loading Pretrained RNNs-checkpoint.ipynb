{
 "cells": [
  {
   "cell_type": "code",
   "execution_count": 1,
   "id": "0f2f07a0",
   "metadata": {},
   "outputs": [
    {
     "name": "stdout",
     "output_type": "stream",
     "text": [
      "/rdma/vast-rdma/vast/fiete/leokoz8/code/rnns-of-rnns\n"
     ]
    }
   ],
   "source": [
    "cd /om2/user/leokoz8/code/rnns-of-rnns"
   ]
  },
  {
   "cell_type": "code",
   "execution_count": 2,
   "id": "e011d1f2",
   "metadata": {},
   "outputs": [],
   "source": [
    "import numpy as np\n",
    "import matplotlib.pyplot as plt\n",
    "import torch\n",
    "from torch import nn\n",
    "from torch.nn import functional as F\n",
    "import tqdm\n",
    "from src import models, utils, parametrizations,tasks\n",
    "from torch.optim.lr_scheduler import StepLR,ReduceLROnPlateau\n",
    "\n",
    "from neurogym.wrappers import ScheduleEnvs\n",
    "from neurogym.utils.scheduler import RandomSchedule\n",
    "from neurogym.wrappers.block import MultiEnvs\n",
    "from neurogym import Dataset\n",
    "from Mod_Cog.mod_cog_tasks import *\n",
    "\n",
    "envs = [go(), rtgo(), dlygo(), anti(), rtanti(), dlyanti(),\n",
    "        dm1(), dm2(), ctxdm1(), ctxdm2(), multidm(), dlydm1(), dlydm2(),\n",
    "        ctxdlydm1(), ctxdlydm2(), multidlydm(), dms(), dnms(), dmc(), dnmc(),\n",
    "        dlygointr(),dlygointl(),dlyantiintr(),dlyantiintl(),dlydm1intr(),dlydm1intl(),\n",
    "        dlydm2intr(),dlydm2intl(),ctxdlydm1intr(),ctxdlydm1intl(),ctxdlydm2intr(),ctxdlydm2intl(),\n",
    "        multidlydmintr(),multidlydmintl(),dmsintr(),dmsintl(),dnmsintr(),\n",
    "        dnmsintl(),dmcintr(),dmcintl(),dnmcintr(),dnmcintl(), goseqr(), rtgoseqr(), dlygoseqr(), \n",
    "        antiseqr(), rtantiseqr(), dlyantiseqr(), dm1seqr(), dm2seqr(), ctxdm1seqr(), ctxdm2seqr(), \n",
    "        multidmseqr(), dlydm1seqr(),dlydm2seqr(),ctxdlydm1seqr(), ctxdlydm2seqr(), multidlydmseqr(),\n",
    "        dmsseqr(), dnmsseqr(), dmcseqr(), dnmcseqr(), goseql(), rtgoseql(), dlygoseql(), antiseql(),\n",
    "        rtantiseql(), dlyantiseql(), dm1seql(), dm2seql(), ctxdm1seql(), ctxdm2seql(), multidmseql(), dlydm1seql(),\n",
    "        dlydm2seql(),ctxdlydm1seql(), ctxdlydm2seql(), multidlydmseql(), dmsseql(), dnmsseql(), dmcseql(), dnmcseql()]\n",
    "\n",
    "envs_names = ['go', 'rtgo', 'dlygo', 'anti', 'rtanti', 'dlyanti','dm1', 'dm2', 'ctxdm1', 'ctxdm2', 'multidm', 'dlydm1', 'dlydm2',\n",
    "        'ctxdlydm1', 'ctxdlydm2', 'multidlydm', 'dms', 'dnms', 'dmc', 'dnmc',\n",
    "        'dlygointr','dlygointl','dlyantiintr','dlyantiintl','dlydm1intr','dlydm1intl',\n",
    "        'dlydm2intr','dlydm2intl','ctxdlydm1intr','ctxdlydm1intl','ctxdlydm2intr','ctxdlydm2intl',\n",
    "        'multidlydmintr','multidlydmintl','dmsintr','dmsintl','dnmsintr',\n",
    "        'dnmsintl','dmcintr','dmcintl','dnmcintr','dnmcintl', 'goseqr', 'rtgoseqr', 'dlygoseqr', \n",
    "        'antiseqr', 'rtantiseqr', 'dlyantiseqr', 'dm1seqr', 'dm2seqr', 'ctxdm1seqr', 'ctxdm2seqr', \n",
    "        'multidmseqr', 'dlydm1seqr','dlydm2seqr','ctxdlydm1seqr', 'ctxdlydm2seqr', 'multidlydmseqr',\n",
    "        'dmsseqr', 'dnmsseqr', 'dmcseqr', 'dnmcseqr', 'goseql', 'rtgoseql', 'dlygoseql', 'antiseql',\n",
    "        'rtantiseql', 'dlyantiseql', 'dm1seql', 'dm2seql', 'ctxdm1seql', 'ctxdm2seql', 'multidmseql', 'dlydm1seql',\n",
    "        'dlydm2seql','ctxdlydm1seql', 'ctxdlydm2seql', 'multidlydmseql', 'dmsseql', 'dnmsseql', 'dmcseql', 'dnmcseql']\n",
    "\n",
    "extra_tasks = {'envs': envs, 'envs_names': envs_names}\n",
    "\n",
    "\n",
    "\n",
    "\n",
    "\n",
    "%load_ext autoreload\n",
    "%autoreload 2"
   ]
  },
  {
   "cell_type": "code",
   "execution_count": 3,
   "id": "081a68d5",
   "metadata": {},
   "outputs": [],
   "source": [
    "\n",
    "def train(net, env,criterion, optimizer, scheduler, training_params):\n",
    "    \n",
    "    running_loss = 0.0\n",
    "    \n",
    "    num_gradient_steps = training_params['num_gradient_steps']\n",
    "    eval_every = training_params['eval_every']\n",
    "    \n",
    "    act_size = env.action_space.n\n",
    "    \n",
    "\n",
    "    pbar = tqdm.trange(num_gradient_steps)\n",
    "    count_eval = 0\n",
    "    perf_over_training = torch.zeros(int(num_gradient_steps/eval_every) + 1)\n",
    "\n",
    "    for i in pbar:\n",
    "        inputs, labels = dataset()\n",
    "        inputs = torch.from_numpy(inputs).type(torch.float).to(device)\n",
    "\n",
    "        labels = torch.from_numpy(labels.flatten()).type(torch.long).to(device)\n",
    "\n",
    "        # zero the parameter gradients\n",
    "        optimizer.zero_grad()\n",
    "\n",
    "        # forward + backward + optimize\n",
    "        outputs,rnn_outputs = net(inputs)\n",
    "\n",
    "        loss = criterion(outputs.reshape(-1, act_size), labels)\n",
    "        loss.backward()\n",
    "        \n",
    "        optimizer.step()\n",
    "\n",
    "        # print statistics\n",
    "        running_loss += loss.item()\n",
    "        if i % eval_every == eval_every - 1 or i == 0:          \n",
    "          \n",
    "\n",
    "            with torch.no_grad():        \n",
    "                perf = utils.get_performance(net,env,device)\n",
    "                perf_over_training[count_eval] = perf\n",
    "                pbar.set_description(f'Performance is {perf} at gradient step {i} with running training loss {running_loss:.2f}')\n",
    "            count_eval += 1\n",
    "            \n",
    "            running_loss = 0.0\n",
    "\n",
    "            #break if performance above 90\n",
    "            if perf >= 0.90:\n",
    "                break\n",
    "            scheduler.step(perf)\n",
    "\n",
    "\n",
    "\n",
    "    #pbar.set_description(f'Performance is {perf} at gradient step {i}')\n",
    "    \n",
    "    return net,perf_over_training"
   ]
  },
  {
   "cell_type": "code",
   "execution_count": 119,
   "id": "467b67c4",
   "metadata": {},
   "outputs": [],
   "source": [
    "device = \"cuda\" if torch.cuda.is_available() else \"cpu\"\n",
    "\n",
    "\n",
    "dataset = Dataset(ctxdlydm1seql(), batch_size=64, seq_len=100)\n",
    "env = dataset.env\n",
    "\n",
    "\n",
    "#tasks_and_constraints = [('ctxdm2','sym'),('anti','spectral'),('dlydm2intl','spectral'),('rtgoseqr','sym')]\n",
    "tasks_and_constraints  = [(envs_names[i],'spectral') for i in range(0,19)]\n",
    "    \n",
    "net = utils.build_GWNET_from_pretrained(tasks_and_constraints, env, device, gw_hidden_size = 16, interareal_constraint = 'None')"
   ]
  },
  {
   "cell_type": "code",
   "execution_count": 120,
   "id": "cdaab94a",
   "metadata": {},
   "outputs": [
    {
     "data": {
      "image/png": "[encoded data removed]",
      "text/plain": [
       "<Figure size 432x288 with 1 Axes>"
      ]
     },
     "metadata": {
      "needs_background": "light"
     },
     "output_type": "display_data"
    }
   ],
   "source": [
    "inputs, labels = dataset()\n",
    "inputs = torch.from_numpy(inputs).type(torch.float).to(device)\n",
    "\n",
    "labels = torch.from_numpy(labels.flatten()).type(torch.long).to(device)\n",
    "\n",
    "with torch.no_grad():\n",
    "    # forward + backward + optimize\n",
    "    outputs,rnn_outputs = net(inputs)\n",
    "    plt.plot(inputs[:,1,0].detach().cpu())\n",
    "    plt.plot(rnn_outputs[:,1,0].detach().cpu())"
   ]
  },
  {
   "cell_type": "code",
   "execution_count": 121,
   "id": "8865333b",
   "metadata": {},
   "outputs": [
    {
     "name": "stderr",
     "output_type": "stream",
     "text": [
      "Performance is 0.91 at gradient step 619 with running training loss 1.10:  62%|██████▏   | 619/1000 [03:47<02:20,  2.72it/s] \n"
     ]
    }
   ],
   "source": [
    "criterion = nn.CrossEntropyLoss()\n",
    "optimizer = torch.optim.Adam(net.parameters(), lr=1e-2)\n",
    "scheduler = ReduceLROnPlateau(optimizer, mode = 'max', factor = 0.1)\n",
    "\n",
    "num_gradient_steps = 1000\n",
    "eval_every = 10\n",
    "\n",
    "training_params = {\"num_gradient_steps\": num_gradient_steps, \"eval_every\": eval_every}\n",
    "\n",
    "\n",
    "net_trained, perf_over_training = train(net,env,criterion,optimizer, scheduler, training_params)\n",
    "\n"
   ]
  },
  {
   "cell_type": "code",
   "execution_count": 122,
   "id": "1b4f15cd",
   "metadata": {},
   "outputs": [
    {
     "data": {
      "text/plain": [
       "[<matplotlib.lines.Line2D at 0x2ba57b6f0b50>]"
      ]
     },
     "execution_count": 122,
     "metadata": {},
     "output_type": "execute_result"
    },
    {
     "data": {
      "image/png": "[encoded data removed]",
      "text/plain": [
       "<Figure size 432x288 with 1 Axes>"
      ]
     },
     "metadata": {
      "needs_background": "light"
     },
     "output_type": "display_data"
    }
   ],
   "source": [
    "plt.plot(perf_over_training)"
   ]
  },
  {
   "cell_type": "code",
   "execution_count": 112,
   "id": "61e80359",
   "metadata": {},
   "outputs": [
    {
     "data": {
      "image/png": "[encoded data removed]",
      "text/plain": [
       "<Figure size 288x288 with 2 Axes>"
      ]
     },
     "metadata": {
      "needs_background": "light"
     },
     "output_type": "display_data"
    }
   ],
   "source": [
    "with torch.no_grad():\n",
    "    plt.matshow(utils.log_abs(net.rnn.L_hat.weight[:,:].detach().cpu()))\n",
    "    plt.colorbar()"
   ]
  },
  {
   "cell_type": "code",
   "execution_count": 116,
   "id": "b936a24d",
   "metadata": {},
   "outputs": [],
   "source": [
    "input2h_weight_bar, rnn_input2h_bias, rnn_h2h_weight, rnn_h2h_bias, fc_weight_bar, fc_bias_bar = utils.get_stacked_weights_and_biases(tasks_and_constraints)"
   ]
  },
  {
   "cell_type": "code",
   "execution_count": 153,
   "id": "8e4df6f3",
   "metadata": {},
   "outputs": [
    {
     "name": "stdout",
     "output_type": "stream",
     "text": [
      "tensor(-1.9924, device='cuda:0')\n"
     ]
    }
   ],
   "source": [
    "with torch.no_grad():\n",
    "    n = 32\n",
    "    D = torch.diag(torch.rand(n,device = device))\n",
    "    W = rnn_h2h_weight[5]\n",
    "    I = torch.eye(n,device = device)\n",
    "    J = -I + D @ W\n",
    "    M = compute_metric_from_sym_weights(W)\n",
    "    F = 0.5*(M @ J + J.T @ M)\n",
    "    \n",
    "    e,_ = torch.linalg.eig(F)\n",
    "    print(torch.max(torch.real(e)))"
   ]
  }
 ],
 "metadata": {
  "kernelspec": {
   "display_name": "Python [conda env:leokoz8-rnns-of-rnns-env] *",
   "language": "python",
   "name": "conda-env-leokoz8-rnns-of-rnns-env-py"
  },
  "language_info": {
   "codemirror_mode": {
    "name": "ipython",
    "version": 3
   },
   "file_extension": ".py",
   "mimetype": "text/x-python",
   "name": "python",
   "nbconvert_exporter": "python",
   "pygments_lexer": "ipython3",
   "version": "3.8.16"
  }
 },
 "nbformat": 4,
 "nbformat_minor": 5
}
