{
 "cells": [
  {
   "cell_type": "code",
   "execution_count": null,
   "metadata": {},
   "outputs": [],
   "source": []
  }
 ],
 "metadata": {
  "kernelspec": {
   "display_name": "rnns-of-rnns-env",
   "language": "python",
   "name": "python3"
  },
  "language_info": {
   "name": "python",
   "version": "3.8.16"
  },
  "orig_nbformat": 4,
  "vscode": {
   "interpreter": {
    "hash": "aee15dab30c9956246484d611b25ccc3dff39689019e1fec7ef42fbf8e2b3a4d"
   }
  }
 },
 "nbformat": 4,
 "nbformat_minor": 2
}
